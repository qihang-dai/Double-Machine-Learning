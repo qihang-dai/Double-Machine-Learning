{
 "cells": [
  {
   "cell_type": "code",
   "execution_count": 1,
   "metadata": {},
   "outputs": [
    {
     "name": "stdout",
     "output_type": "stream",
     "text": [
      "[0.52 0.37 0.31 0.16]\n"
     ]
    }
   ],
   "source": [
    "import numpy as np\n",
    "\n",
    "# Define the hidden states and attention vector\n",
    "hidden_states = np.array([[0.7, 0.2, 0.3, 0.1],\n",
    "                          [0.2, 0.7, 0.3, 0.1],\n",
    "                          [0.0, 0.6, 0.4, 0.3],\n",
    "                          [0.1, 0.1, 0.0, 0.9]])\n",
    "\n",
    "attention_vector = np.array([0.5, 0.2, 0.4, 0.1])\n",
    "\n",
    "# Calculate the attention scores\n",
    "attention_scores = np.dot(hidden_states, attention_vector)\n",
    "\n",
    "# Print the attention scores\n",
    "print(attention_scores)\n"
   ]
  },
  {
   "cell_type": "code",
   "execution_count": 2,
   "metadata": {},
   "outputs": [
    {
     "data": {
      "text/plain": [
       "0.52"
      ]
     },
     "execution_count": 2,
     "metadata": {},
     "output_type": "execute_result"
    }
   ],
   "source": [
    "a =  np.array([0.7, 0.2, 0.3, 0.1])\n",
    "b = np.array([0.5, 0.2, 0.4, 0.1])\n",
    "np.dot(a,b)"
   ]
  },
  {
   "cell_type": "code",
   "execution_count": 5,
   "metadata": {},
   "outputs": [
    {
     "name": "stdout",
     "output_type": "stream",
     "text": [
      "[0.297 0.255 0.241 0.207]\n"
     ]
    }
   ],
   "source": [
    "# Calculate the attention distribution using the softmax function\n",
    "attention_dist = np.exp(attention_scores) / np.sum(np.exp(attention_scores))\n",
    "\n",
    "# round the attention distribution to 2 decimal places\n",
    "attention_dist = np.round(attention_dist, 3)\n",
    "\n",
    "# Print the attention distribution\n",
    "print(attention_dist)"
   ]
  },
  {
   "cell_type": "code",
   "execution_count": 6,
   "metadata": {},
   "outputs": [
    {
     "name": "stdout",
     "output_type": "stream",
     "text": [
      "[0.2796 0.4032 0.262  0.3138]\n"
     ]
    }
   ],
   "source": [
    "# Calculate the attention output\n",
    "attention_output = np.dot(hidden_states.T, attention_dist)\n",
    "\n",
    "# Print the attention output\n",
    "print(attention_output)"
   ]
  }
 ],
 "metadata": {
  "kernelspec": {
   "display_name": "base",
   "language": "python",
   "name": "python3"
  },
  "language_info": {
   "codemirror_mode": {
    "name": "ipython",
    "version": 3
   },
   "file_extension": ".py",
   "mimetype": "text/x-python",
   "name": "python",
   "nbconvert_exporter": "python",
   "pygments_lexer": "ipython3",
   "version": "3.9.16"
  },
  "orig_nbformat": 4
 },
 "nbformat": 4,
 "nbformat_minor": 2
}
