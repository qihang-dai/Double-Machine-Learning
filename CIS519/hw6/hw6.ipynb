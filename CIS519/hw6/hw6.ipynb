{
  "cells": [
    {
      "cell_type": "markdown",
      "metadata": {
        "id": "qs0yamHN-dY0"
      },
      "source": [
        "# **CIS 4190/5190 Spring 2023 - Homework 6**\n",
        "\n",
        "**Before starting, you must click on the \"Copy To Drive\" option in the top bar. Go to File --> Save a Copy to Drive. This is the master notebook so <u>you will not be able to save your changes without copying it </u>! Once you click on that, make sure you are working on that version of the notebook so that your work is saved** "
      ]
    },
    {
      "cell_type": "code",
      "execution_count": null,
      "metadata": {
        "id": "yz4CPNEHjINs"
      },
      "outputs": [],
      "source": [
        "# Restart the runtime after running this cell everytime you open the notebook\n",
        "!pip install pandas==1.1.5\n",
        "!pip install dill"
      ]
    },
    {
      "cell_type": "code",
      "execution_count": null,
      "metadata": {
        "id": "Rb-WLp5Z-cdy"
      },
      "outputs": [],
      "source": [
        "import random \n",
        "import numpy as np\n",
        "import pandas as pd\n",
        "import os\n",
        "import sys\n",
        "import matplotlib.pyplot as plt\n",
        "from numpy.linalg import *\n",
        "np.random.seed(42)  # don't change this line\n",
        "\n",
        "import dill\n",
        "import base64"
      ]
    },
    {
      "cell_type": "code",
      "execution_count": null,
      "metadata": {
        "id": "O2VtEzsZ-loR"
      },
      "outputs": [],
      "source": [
        "# For autogreader only, do not modify this cell. \n",
        "# True for Google Colab, False for autograder\n",
        "NOTEBOOK = (os.getenv('IS_AUTOGRADER') is None)\n",
        "if NOTEBOOK:\n",
        "    print(\"[INFO, OK] Google Colab.\")\n",
        "else:\n",
        "    print(\"[INFO, OK] Autograder.\")"
      ]
    },
    {
      "cell_type": "markdown",
      "metadata": {
        "id": "cjjXBdEb-p8K"
      },
      "source": [
        "# **PennGrader Setup**\n",
        "\n",
        "First, you'll need to set up the PennGrader, an autograder we are going to use throughout the semester. The PennGrader will automatically grade your answer and provide you with an instant feedback. Unless otherwise stated, you can resubmit up to a reasonable number of attempts (e.g. 100 attemptes per day). **We will only record your latest score in our backend database**. \n",
        "\n",
        "After finishing each homework assignment, you must submit your iPython notebook to gradescope before the homework deadline. Gradescope will then retrive and display your scores from our backend database. "
      ]
    },
    {
      "cell_type": "code",
      "execution_count": null,
      "metadata": {
        "id": "6GCTLN4G-nK2"
      },
      "outputs": [],
      "source": [
        "%%capture\n",
        "!pip3 install penngrader --upgrade"
      ]
    },
    {
      "cell_type": "code",
      "execution_count": null,
      "metadata": {
        "id": "QLnoPRci-sTC"
      },
      "outputs": [],
      "source": [
        "from penngrader.grader import *"
      ]
    },
    {
      "cell_type": "code",
      "execution_count": null,
      "metadata": {
        "id": "qu0XYZHO-t8J"
      },
      "outputs": [],
      "source": [
        "#PLEASE ENSURE YOUR PENN-ID IS ENTERED CORRECTLY. IF NOT, THE AUTOGRADER WON'T KNOW WHO \n",
        "#TO ASSIGN POINTS TO YOU IN OUR BACKEND\n",
        "STUDENT_ID = 103          # YOUR PENN-ID GOES HERE AS AN INTEGER#"
      ]
    },
    {
      "cell_type": "markdown",
      "metadata": {
        "id": "tIDTGGbo-xkf"
      },
      "source": [
        "Run the following cell to initialize the autograder. This autograder will let you submit your code directly from this notebook and immidiately get a score.\n",
        "\n",
        "**NOTE:** Remember we store your submissions and check against other student's submissions... so, not that you would, but no cheating."
      ]
    },
    {
      "cell_type": "code",
      "execution_count": null,
      "metadata": {
        "id": "bw_QDnZk-vvI"
      },
      "outputs": [],
      "source": [
        "grader = PennGrader(homework_id = 'CIS5190_Sp23_HW6', student_id = STUDENT_ID)"
      ]
    },
    {
      "cell_type": "code",
      "execution_count": null,
      "metadata": {
        "id": "f0_ydbgD0Kvf"
      },
      "outputs": [],
      "source": [
        "# A helper function for grading utils\n",
        "def grader_serialize(obj):        # A helper function\n",
        "    '''Dill serializes Python object into a UTF-8 string'''\n",
        "    byte_serialized = dill.dumps(obj, recurse = True)\n",
        "    return base64.b64encode(byte_serialized).decode(\"utf-8\")"
      ]
    },
    {
      "cell_type": "markdown",
      "metadata": {
        "id": "oQCyLhELJ7LX"
      },
      "source": [
        "#### **NOTE 1. Results of sections marked as \"manually graded\" should be submitted along with the written homework solutions.**\n",
        "\n",
        "#### **NOTE 2. If you are running into a `__builtins__' error, it's likely because you're using a function call of the form numpy.ndarray.mean(), like a.mean(). This does not play nice with PennGrader unfortunately. Please use the function call numpy.mean(a) instead.**"
      ]
    },
    {
      "cell_type": "markdown",
      "metadata": {
        "id": "LcrJaJ73Rk9v"
      },
      "source": [
        "#1.NLP Section"
      ]
    },
    {
      "cell_type": "markdown",
      "metadata": {
        "id": "Yp9rryptRoLR"
      },
      "source": [
        "#### Stanford Sentiment Treebank(SST)\n",
        "\n",
        "We'll introduce the [Stanford Sentiment Treebank](https://nlp.stanford.edu/sentiment/index.html) (SST) dataset, and use a Naive Bayes model as a simple baseline. The SST was introduced by [(Socher et al. 2013)](http://nlp.stanford.edu/~socherr/EMNLP2013_RNTN.pdf) and it consists of approximately 10,000 sentences from movie reviews. It consists of 11,855 sentences drawn from a corpus of movie reviews (originally from Rotten Tomatoes), each labeled with sentiment on a five-point scale ans is a widely used dataset as a benchmark for text classification.\n",
        "\n",
        "An example of the five-point scale is:\n",
        "```\n",
        "sentence: [A warm , funny , engaging film .]\n",
        "label:    4 (very positive)\n",
        "```\n",
        "\n",
        "**Note:** Unlike most classification datasets, SST is also a _treebank_, which means each sentence is associated with a tree structure that decomposes it into subphrases. So for the example above, we'd also have sentiment labels for `[warm , funny]` and `[engaging film .]` and so on. The tree structure will comes in handy for complex NLP tasks and we will be using it briefly to analyze an example that has negation. The data is distributed as serialized trees in [S-expression](https://en.wikipedia.org/wiki/S-expression) form, like this:\n",
        "```\n",
        "(4 (4 (2 A) (4 (3 (3 warm) (2 ,)) (3 funny))) (3 (2 ,) (3 (4 (4 engaging) (2 film)) (2 .))))\n",
        "```\n",
        "\n",
        "We've downladed the dataset and parse the S-expressions into a dataframe.\n",
        "\n"
      ]
    },
    {
      "cell_type": "code",
      "execution_count": null,
      "metadata": {
        "id": "FByUmOl14eyC"
      },
      "outputs": [],
      "source": [
        "!pip3 install wget"
      ]
    },
    {
      "cell_type": "code",
      "execution_count": null,
      "metadata": {
        "id": "Wothm2Pot6-Z"
      },
      "outputs": [],
      "source": [
        "from __future__ import division\n",
        "import os, sys, re, json, time, datetime, shutil\n",
        "import itertools, collections\n",
        "from importlib import reload\n",
        "\n",
        "# NLTK, NumPy, and Pandas.\n",
        "import nltk\n",
        "from nltk.tree import Tree\n",
        "import numpy as np\n",
        "from numpy import random as rd\n",
        "import random\n",
        "import pandas as pd"
      ]
    },
    {
      "cell_type": "code",
      "execution_count": null,
      "metadata": {
        "id": "pdl0NfUrJHxO"
      },
      "outputs": [],
      "source": [
        "import os\n",
        "import collections\n",
        "import re\n",
        "import time\n",
        "import itertools\n",
        "from collections import defaultdict, Counter"
      ]
    },
    {
      "cell_type": "code",
      "execution_count": null,
      "metadata": {
        "id": "ay1YROpJAZ_i"
      },
      "outputs": [],
      "source": [
        "# Constants for use by other modules.\n",
        "START_TOKEN = u\"<s>\"\n",
        "END_TOKEN   = u\"</s>\"\n",
        "UNK_TOKEN   = u\"<unk>\""
      ]
    },
    {
      "cell_type": "markdown",
      "metadata": {
        "id": "1ma4E29Xe8Hs"
      },
      "source": [
        "#### Required files\n",
        "[train parquet file](https://www.cis.upenn.edu/~myatskar/teaching/cis519/a5/train.parquet)\n",
        "\n",
        "[dev parquet file](https://www.cis.upenn.edu/~myatskar/teaching/cis519/a5/dev.parquet)\n",
        "\n",
        "[test parquet file](https://www.cis.upenn.edu/~myatskar/teaching/cis519/a5/test.parquet)\n",
        "\n",
        "[tokens in training data](https://www.cis.upenn.edu/~myatskar/teaching/cis519/a5/train_tokens.txt)"
      ]
    },
    {
      "cell_type": "code",
      "execution_count": null,
      "metadata": {
        "id": "LumyzFXKpDIa"
      },
      "outputs": [],
      "source": [
        "!wget  -c  https://www.cis.upenn.edu/~myatskar/teaching/cis519/a5/train_tokens.txt\n",
        "!wget  -c  https://www.cis.upenn.edu/~myatskar/teaching/cis519/a5/train.parquet\n",
        "!wget  -c  https://www.cis.upenn.edu/~myatskar/teaching/cis519/a5/dev.parquet\n",
        "!wget  -c  https://www.cis.upenn.edu/~myatskar/teaching/cis519/a5/test.parquet"
      ]
    },
    {
      "cell_type": "markdown",
      "metadata": {
        "id": "AG1RbvIgdCuz"
      },
      "source": [
        "If the cells above fails to download all the files, rerun a couple of times or download them and add them manually."
      ]
    },
    {
      "cell_type": "code",
      "execution_count": null,
      "metadata": {
        "id": "v0JC3vd0cvfG"
      },
      "outputs": [],
      "source": [
        "train_file = \"train.parquet\" \n",
        "dev_file = \"dev.parquet\" \n",
        "test_file = \"test.parquet\" \n",
        "vocab_file = \"train_tokens.txt\" "
      ]
    },
    {
      "cell_type": "markdown",
      "metadata": {
        "id": "olCRGZcIJuEf"
      },
      "source": [
        "Some helper code to download and process data"
      ]
    },
    {
      "cell_type": "code",
      "execution_count": null,
      "metadata": {
        "cellView": "form",
        "id": "fDhs_mpQAQIt"
      },
      "outputs": [],
      "source": [
        "#@title\n",
        "class SSTDataset(object):\n",
        "\n",
        "    Example_fields = [\"tokens\", \"ids\", \"label\", \"is_root\", \"root_id\"]\n",
        "    Example = collections.namedtuple(\"Example\", Example_fields)\n",
        "\n",
        "\n",
        "    def canonicalize(self, raw_tokens):\n",
        "        wordset=(self.vocab.wordset if self.vocab else None)\n",
        "        return canonicalize_words(raw_tokens, wordset=wordset)\n",
        "\n",
        "    def __init__(self,train_file,dev_file,test_file,vocab_file,V=20000):\n",
        "        self.vocab = None\n",
        "        self.train = pd.read_parquet(train_file)\n",
        "        self.dev = pd.read_parquet(dev_file)\n",
        "        self.test = pd.read_parquet(test_file)\n",
        "        train_words =[]\n",
        "        with open(vocab_file) as f:\n",
        "            train_words = f.readlines()\n",
        "        train_words = [w.strip() for w in train_words]\n",
        "        # # Build vocabulary over training set\n",
        "        self.vocab = Vocabulary(train_words, size=V)\n",
        "        print(\"Train set has {:,} words\".format(self.vocab.size))\n",
        "        self.target_names = [0,1]\n",
        "\n",
        "    def get_filtered_split(self, split='train',is_root = True):\n",
        "        df = getattr(self, split)\n",
        "        if is_root:\n",
        "            df = df[df.is_root]\n",
        "        return df\n",
        "\n",
        "    def as_padded_array(self, split='train', max_len=40, pad_id=0,is_root = True):\n",
        "        df = self.get_filtered_split(split,is_root)\n",
        "        x, ns = pad_np_array(df.ids, max_len=max_len, pad_id=pad_id)\n",
        "        y = np.empty((1,1))\n",
        "        if split != 'test':\n",
        "            y  = np.array(df.label, dtype=np.int32)\n",
        "        return x, ns, y\n",
        "\n",
        "    def as_sparse_bow(self, split='train',is_root = True):\n",
        "        from scipy import sparse\n",
        "        df = self.get_filtered_split(split,is_root)\n",
        "        x = id_lists_to_sparse_bow(df['ids'], self.vocab.size)\n",
        "        if split != 'test':\n",
        "            return x, np.array(df.label, dtype=np.int32)\n",
        "        return x\n",
        "\n",
        "def require_package(package_name):\n",
        "    import pkgutil\n",
        "    import subprocess\n",
        "    import sys\n",
        "    if not pkgutil.find_loader(package_name):\n",
        "        subprocess.check_call([sys.executable, '-m', 'pip', 'install', package_name])\n",
        "\n",
        "def canonicalize_digits(word):\n",
        "    if any([c.isalpha() for c in word]): return word\n",
        "    word = re.sub(\"\\d\", \"DG\", word)\n",
        "    if word.startswith(\"DG\"):\n",
        "        word = word.replace(\",\", \"\") # remove thousands separator\n",
        "    return word\n",
        "\n",
        "def canonicalize_word(word, wordset=None, digits=True):\n",
        "    word = word.lower()\n",
        "    if digits:\n",
        "        if (wordset != None) and (word in wordset): return word\n",
        "        word = canonicalize_digits(word) # try to canonicalize numbers\n",
        "    if (wordset == None) or (word in wordset):\n",
        "        return word\n",
        "    else:\n",
        "        return UNK_TOKEN\n",
        "\n",
        "def canonicalize_words(words, **kw):\n",
        "    return [canonicalize_word(word, **kw) for word in words]\n",
        "\n",
        "\n",
        "def pad_np_array(example_ids, max_len=250, pad_id=0):\n",
        "    arr = np.full([len(example_ids), max_len], pad_id, dtype=np.int32)\n",
        "    ns = np.zeros([len(example_ids)], dtype=np.int32)\n",
        "    for i, ids in enumerate(example_ids):\n",
        "        cpy_len = min(len(ids), max_len)\n",
        "        arr[i,:cpy_len] = ids[:cpy_len]\n",
        "        ns[i] = cpy_len\n",
        "    return arr, ns\n",
        "\n",
        "def id_lists_to_sparse_bow(id_lists, vocab_size):\n",
        "    from scipy import sparse\n",
        "    ii = []  # row indices (example ids)\n",
        "    jj = []  # column indices (token ids)\n",
        "    for row_id, ids in enumerate(id_lists):\n",
        "        ii.extend([row_id]*len(ids))\n",
        "        jj.extend(ids)\n",
        "    x = sparse.csr_matrix((np.ones_like(ii), (ii, jj)),\n",
        "                          shape=[len(id_lists), vocab_size])\n",
        "    return x\n",
        "\n",
        "class Vocabulary(object):\n",
        "\n",
        "    START_TOKEN = START_TOKEN\n",
        "    END_TOKEN   = END_TOKEN\n",
        "    UNK_TOKEN   = UNK_TOKEN\n",
        "\n",
        "    def __init__(self, tokens, size=None,\n",
        "                 progressbar=lambda l:l):\n",
        "        self.unigram_counts = Counter()\n",
        "        self.bigram_counts = defaultdict(lambda: Counter())\n",
        "        prev_word = None\n",
        "        for word in progressbar(tokens):  # Make a single pass through tokens\n",
        "            self.unigram_counts[word] += 1\n",
        "            self.bigram_counts[prev_word][word] += 1\n",
        "            prev_word = word\n",
        "        self.bigram_counts.default_factory = None  # make into a normal dict\n",
        "\n",
        "        # Leave space for \"<s>\", \"</s>\", and \"<unk>\"\n",
        "        top_counts = self.unigram_counts.most_common(None if size is None else (size - 3))\n",
        "        vocab = ([self.START_TOKEN, self.END_TOKEN, self.UNK_TOKEN] +\n",
        "                 [w for w,c in top_counts])\n",
        "\n",
        "        # Assign an id to each word, by frequency\n",
        "        self.id_to_word = dict(enumerate(vocab))\n",
        "        self.word_to_id = {v:k for k,v in self.id_to_word.items()}\n",
        "        self.size = len(self.id_to_word)\n",
        "        if size is not None:\n",
        "            assert(self.size <= size)\n",
        "\n",
        "        # For convenience\n",
        "        self.wordset = set(self.word_to_id.keys())\n",
        "\n",
        "        # Store special IDs\n",
        "        self.START_ID = self.word_to_id[self.START_TOKEN]\n",
        "        self.END_ID = self.word_to_id[self.END_TOKEN]\n",
        "        self.UNK_ID = self.word_to_id[self.UNK_TOKEN]\n",
        "\n",
        "    def words_to_ids(self, words):\n",
        "        return [self.word_to_id.get(w, self.UNK_ID) for w in words]\n",
        "\n",
        "    def ids_to_words(self, ids):\n",
        "        return [self.id_to_word[i] for i in ids]\n",
        "\n",
        "    def ordered_words(self):\n",
        "        \"\"\"Return a list of words, ordered by id.\"\"\"\n",
        "        return self.ids_to_words(range(self.size))\n"
      ]
    },
    {
      "cell_type": "code",
      "execution_count": null,
      "metadata": {
        "id": "CSRZ9eqxt6-b"
      },
      "outputs": [],
      "source": [
        "ds = SSTDataset(train_file,dev_file, test_file,vocab_file,V=20000)"
      ]
    },
    {
      "cell_type": "markdown",
      "metadata": {
        "id": "kY5JE1DQt6-d"
      },
      "source": [
        "A few members of the `SSTDataset()` class that we will be using are:\n",
        "- **`ds.vocab`**: a `vocabulary.Vocabulary` object managing the model vocabulary.\n",
        "- **`ds.{train,dev,test}`**: a Pandas DataFrame containing the _processed_ examples, including all subphrases. `label` is the target label, `is_root` denotes whether this example is a root node (full sentence), and `tokens` are the tokenized words from the original sentence."
      ]
    },
    {
      "cell_type": "markdown",
      "metadata": {
        "id": "16q8ruRjt6-k"
      },
      "source": [
        "Note if you set `root_only=True` the dataframe will return only examples corresponding to whole sentences. If you set `root_only=False` the dataframe will return examples for all phrases."
      ]
    },
    {
      "cell_type": "code",
      "execution_count": null,
      "metadata": {
        "id": "9SXUCz-2YeP0"
      },
      "outputs": [],
      "source": [
        "is_root = False"
      ]
    },
    {
      "cell_type": "markdown",
      "metadata": {
        "id": "K2EMoXKcUQ1G"
      },
      "source": [
        "## 1.1 [Deep Averaging Networks](https://people.cs.umass.edu/~miyyer/pubs/2015_acl_dan.pdf) [25pts, Autograded]\n",
        "\n",
        "We are going to implement the deep averaging networks\n",
        "\n",
        "![dan](https://miro.medium.com/max/904/1*0LezMYWUk3pXptoMdO5M_Q.png)\n",
        "\n",
        "\n",
        "Vector space models for natural language processing (NLP) represent words using low dimensional vectors called embeddings. To apply vector space\n",
        "models to sentences or documents, one must first select an appropriate composition function, which combines multiple words into a single vector.\n",
        "\n",
        "Composition functions fall into two classes: unordered and syntactic. Unordered functions treat input texts as bags of word embeddings, while syntactic functions take word order and sentence structure\n",
        "into account. Syntactic functions outperform unordered functions on many tasks. However, there is a tradeoff: syntactic functions require more training time and computing resources. \n",
        "\n",
        "The deep averaging network (DAN) is a deep unordered model which that obtains near state-of-the-art accuracies on a variety of sentence and document-level tasks with just minutes of training time on an average laptop computer. It\n",
        "works in three simple steps:\n",
        "1. Take the vector average of the embeddings\n",
        "associated with an input sequence of tokens\n",
        "2. Pass that average through one or more feedforward layers\n",
        "3. Perform (linear) classification on the final\n",
        "layer’s representation\n",
        "\n",
        "Furthermore, DANs, can be effectively trained on data that have high syntactic variance. The model works by magnifying tiny but meaningful differences in the vector average."
      ]
    },
    {
      "cell_type": "markdown",
      "metadata": {
        "id": "6S7vplWWPya4"
      },
      "source": [
        "We are going to use DANs for the same classification problem."
      ]
    },
    {
      "cell_type": "code",
      "execution_count": null,
      "metadata": {
        "id": "WVXHs8JIQEg8"
      },
      "outputs": [],
      "source": [
        "import torch\n",
        "import torch.nn as nn\n",
        "import torch.nn.functional as F\n",
        "\n",
        "import torch.optim as optim\n",
        "from torch.utils.data import Dataset, DataLoader\n"
      ]
    },
    {
      "cell_type": "code",
      "execution_count": null,
      "metadata": {
        "id": "WU2myqExRR1n"
      },
      "outputs": [],
      "source": [
        "import os\n",
        "import time\n",
        "import glob\n",
        "import numpy as np\n",
        "\n",
        "import sys\n",
        "from argparse import ArgumentParser"
      ]
    },
    {
      "cell_type": "markdown",
      "metadata": {
        "id": "Q5ulmPzRwr3T"
      },
      "source": [
        "### 1.1.1 [Glove Embeddings](https://nlp.stanford.edu/projects/glove/) [TODO: 5pts]\n",
        "We are downloading pretrained glove word vectors that has been trained on Common Crawl data, a snapshot of the whole web.\n",
        "These embeddings serve as excelent initilizations for embeddings our model needs.\n",
        "Downloading glove embeddings (This will take around 10 minutes) "
      ]
    },
    {
      "cell_type": "code",
      "execution_count": null,
      "metadata": {
        "id": "nT27aeXBVw01"
      },
      "outputs": [],
      "source": [
        "#this takes about 10 minutes to run\n",
        "!wget -nc https://nlp.stanford.edu/data/glove.840B.300d.zip\n",
        "!unzip glove.840B.300d.zip\n",
        "!ls -lat"
      ]
    },
    {
      "cell_type": "code",
      "execution_count": null,
      "metadata": {
        "id": "gukyScOlS6Ri"
      },
      "outputs": [],
      "source": [
        "glove_file = \"glove.840B.300d.txt\""
      ]
    },
    {
      "cell_type": "code",
      "execution_count": null,
      "metadata": {
        "id": "MpUv8X36MEru"
      },
      "outputs": [],
      "source": [
        "train_x, train_ns, train_y = ds.as_padded_array(\"train\",is_root = is_root)\n",
        "dev_x, dev_ns, dev_y = ds.as_padded_array(\"dev\",is_root = is_root)\n",
        "test_x, test_ns,_  = ds.as_padded_array(\"test\",is_root = is_root)\n",
        "\n",
        "print(\"Training set: x = {:s} sparse, ns={:s}, y = {:s}\".format(str(train_x.shape), str(train_ns.shape),\n",
        "                                                str(train_y.shape)))\n",
        "print(\"Validation set: x = {:s} sparse,ns={:s}, y = {:s}\".format(str(dev_x.shape), str(dev_ns.shape),\n",
        "                                                str(dev_y.shape)))\n",
        "print(\"Test set:     x = {:s} sparse,ns={:s}\".format(str(test_x.shape), str(test_ns.shape)))"
      ]
    },
    {
      "cell_type": "code",
      "execution_count": null,
      "metadata": {
        "id": "qu-xCT7dIfwD"
      },
      "outputs": [],
      "source": [
        "#look at the format of the file\n",
        "!head glove.840B.300d.txt"
      ]
    },
    {
      "cell_type": "markdown",
      "metadata": {
        "id": "JFe9SkOcYugK"
      },
      "source": [
        "#### Get Glove embeddings\n",
        "In this section we want to populate the `glove` dictionary with a mapping of word to the embedding. Remember: the embedding should be an `np.array` of type `np.float` The glove dictionary should only have words that are present in the train vocabulary. \n",
        "\n",
        "\n",
        "Hint: \n",
        " \n",
        "\n",
        "For getting the word and corresponding embedding from the glove file, remember refer to the above structure of the word to embedding mapping."
      ]
    },
    {
      "cell_type": "code",
      "execution_count": null,
      "metadata": {
        "id": "4RNiORwiYTzi"
      },
      "outputs": [],
      "source": [
        "#takes about 1 minute to read through the whole file and find the words we need. \n",
        "def get_glove_mapping(vocab, file):\n",
        "    \"\"\"\n",
        "    Gets the mapping of words from the vocabulary to pretrained embeddings\n",
        "    \n",
        "    INPUT:\n",
        "    vocab       - set of vocabulary words\n",
        "    file        - file with pretrained embeddings\n",
        "\n",
        "    OUTPUT:\n",
        "    glove_map   - mapping of words in the vocabulary to the pretrained embedding\n",
        "    \n",
        "    \"\"\"\n",
        "    \n",
        "    glove_map = {}\n",
        "    with open(file,'rb') as fi:\n",
        "        for l in fi:\n",
        "            try:\n",
        "                #### STUDENT CODE HERE ####\n",
        "                \n",
        "                #### STUDENT CODE ENDS HERE ####\n",
        "            except:\n",
        "                #some lines have urls, we don't need them.\n",
        "                pass\n",
        "    return glove_map"
      ]
    },
    {
      "cell_type": "code",
      "execution_count": null,
      "metadata": {
        "id": "kYettRoymWTz"
      },
      "outputs": [],
      "source": [
        "vocab_set = set(ds.vocab.ordered_words())\n",
        "glove_map = get_glove_mapping(vocab_set,glove_file)"
      ]
    },
    {
      "cell_type": "code",
      "execution_count": null,
      "metadata": {
        "id": "2K5Mm5a2bpda"
      },
      "outputs": [],
      "source": [
        "def test_glove_embedding(glove_map):\n",
        "    assert(len(glove_map.keys()) == 15505)\n",
        "    assert(\"November\" not in glove_map.keys())\n",
        "\n",
        "if NOTEBOOK:\n",
        "    test_glove_embedding(glove_map)"
      ]
    },
    {
      "cell_type": "code",
      "execution_count": null,
      "metadata": {
        "id": "nGPjrf8rd__p"
      },
      "outputs": [],
      "source": [
        "# PennGrader Grading Cell\n",
        "if NOTEBOOK:\n",
        "    grader.grade(test_case_id = 'test_glove_embedding', answer = list(glove_map.keys()))"
      ]
    },
    {
      "cell_type": "markdown",
      "metadata": {
        "id": "HoZuTVB9mcZb"
      },
      "source": [
        "#### Dimensions required for the weight matrix\n",
        "\n",
        "Fill in the dimensions required for weight matrix"
      ]
    },
    {
      "cell_type": "code",
      "execution_count": null,
      "metadata": {
        "id": "djhLc9X_Z2E0"
      },
      "outputs": [],
      "source": [
        "d_out = len(ds.target_names)  #number of outputs\n",
        "n_embed = ds.vocab.size #size of the dictionary of embeddings\n",
        "d_embed = 300 # the size of each embedding vector\n",
        "dims =(d_out,n_embed,d_embed)"
      ]
    },
    {
      "cell_type": "code",
      "execution_count": null,
      "metadata": {
        "id": "Qr6jSgYPdJeM"
      },
      "outputs": [],
      "source": [
        "def test_dimensions(dims):\n",
        "    d_out,n_embed,d_embed = dims \n",
        "    assert(n_embed == 16474)\n",
        "    assert(d_out == 2)\n",
        "    assert(d_embed == 300)\n",
        "    \n",
        "if NOTEBOOK:\n",
        "    test_dimensions(dims)"
      ]
    },
    {
      "cell_type": "code",
      "execution_count": null,
      "metadata": {
        "id": "K3g0z7Y7e0MA"
      },
      "outputs": [],
      "source": [
        "# PennGrader Grading Cell\n",
        "if NOTEBOOK:\n",
        "    grader.grade(test_case_id = 'test_dimensions', answer = dims)"
      ]
    },
    {
      "cell_type": "markdown",
      "metadata": {
        "id": "ct2rwpFxlytq"
      },
      "source": [
        "#### Initializing the weight matrix\n",
        "\n",
        "Create a weight_matrix for the parameters to be learnt. Initialize the weight matrix for a particular id with the glove embedding for the same id. If you do not find a particular word, initialize the weight matrix with `np.random.normal`\n",
        "\n",
        "Hint: `ds.vocab.ordered_words()` can give you the mapping of id to words. `glove` has the embeddings you need."
      ]
    },
    {
      "cell_type": "code",
      "execution_count": null,
      "metadata": {
        "id": "MMIZjt4HYuJB"
      },
      "outputs": [],
      "source": [
        "def get_weight_matrix(n_embed, d_embed, glove_map):\n",
        "    \"\"\"\n",
        "    Initialize the weight matrix\n",
        "    \n",
        "    INPUT:\n",
        "    n_embed         - size of the dictionary of embeddings\n",
        "    d_embed         - the size of each embedding vector\n",
        "\n",
        "    OUTPUT:\n",
        "    weights_matrix  - matrix of mapping from word id to embedding \n",
        "    \n",
        "    \"\"\"\n",
        "    #### STUDENT CODE HERE ####\n",
        "\n",
        "    #### STUDENT CODE ENDS HERE ####\n",
        "    return weights_matrix"
      ]
    },
    {
      "cell_type": "code",
      "execution_count": null,
      "metadata": {
        "id": "rotHEiIqm2sV"
      },
      "outputs": [],
      "source": [
        "weights_matrix = get_weight_matrix(n_embed, d_embed, glove_map)\n",
        "weight_data = (weights_matrix.shape, weights_matrix[:155])"
      ]
    },
    {
      "cell_type": "code",
      "execution_count": null,
      "metadata": {
        "id": "H-Na6gvrdoMN"
      },
      "outputs": [],
      "source": [
        "def test_weight_matrix(weight_data):\n",
        "    mat1 = [-0.18994 ,  0.11016 , -0.46874 ,  0.24375 ,  0.18241 ,  0.2649  ,\n",
        "       -0.025122, -0.58228 , -0.23545 ,  0.20763 ]\n",
        "    shape = (16474, 300)\n",
        "    for i in range(0,10):\n",
        "        if abs(mat1[i] - weight_data[1][150][200+i])>= 0.002:\n",
        "            assert(mat1[i] != weight_data[1][150][200+i])\n",
        "        if shape != weight_data[0]:\n",
        "            assert(shape != weight_data[0])\n",
        "\n",
        "if NOTEBOOK:\n",
        "    test_weight_matrix(weight_data)"
      ]
    },
    {
      "cell_type": "code",
      "execution_count": null,
      "metadata": {
        "id": "2NHXsYBHgxya"
      },
      "outputs": [],
      "source": [
        "# PennGrader Grading Cell\n",
        "if NOTEBOOK:\n",
        "    grader.grade(test_case_id = 'test_weight_matrix', answer = weight_data)"
      ]
    },
    {
      "cell_type": "markdown",
      "metadata": {
        "id": "Z6rGLI6jm-0g"
      },
      "source": [
        "#### Creating Embedding Layer\n",
        "Use the weight matrix to create the embedding layer by using `nn.Embedding`."
      ]
    },
    {
      "cell_type": "code",
      "execution_count": null,
      "metadata": {
        "id": "4XGB1pAabQAf"
      },
      "outputs": [],
      "source": [
        "def create_emb_layer(weights_matrix, non_trainable=False):\n",
        "    \"\"\"\n",
        "    Create the embedding layer\n",
        "    \n",
        "    INPUT:\n",
        "    weights_matrix  - matrix of mapping from word id to embedding\n",
        "    non_trainable   - Flag for whether the weight matrix should be trained. \n",
        "                      If it is set to True, don't update the gradients\n",
        "\n",
        "    OUTPUT:\n",
        "    emb_layer       - embedding layer \n",
        "    \n",
        "    \"\"\"\n",
        "    #### STUDENT CODE HERE ####\n",
        "    ...\n",
        "    \n",
        "    if non_trainable:\n",
        "        # If non_trainable is set to True, don't update the gradients\n",
        "        \n",
        "    #### STUDENT CODE ENDS HERE ####\n",
        "\n",
        "    return emb_layer"
      ]
    },
    {
      "cell_type": "markdown",
      "metadata": {
        "id": "FI5HX8dGNQyR"
      },
      "source": [
        "#### Defining the Dataloader "
      ]
    },
    {
      "cell_type": "markdown",
      "metadata": {
        "id": "v2Z4YahqYBBw"
      },
      "source": [
        "For the ease of batch processing, we are defining the following to use the functionality of the Dataloader in Pytorch. \n",
        "\n",
        "Note: The process of creating a mask for the word dropout."
      ]
    },
    {
      "cell_type": "code",
      "execution_count": null,
      "metadata": {
        "id": "tOubHTzb8CS2"
      },
      "outputs": [],
      "source": [
        "class SSTpytorchDataset(Dataset):\n",
        "    def __init__(self, sst_ds, word_dropout = 0.3, split='train'):\n",
        "        super(SSTpytorchDataset, self).__init__()\n",
        "        assert split in ['train', 'test', 'dev'], \"Error!\"\n",
        "        self.ds = sst_ds\n",
        "        self.split = split\n",
        "        self.word_dropout = word_dropout\n",
        "        self.data_x, self.data_ns, self.data_y = self.ds.as_padded_array(split,is_root =is_root)\n",
        "        self.mask = np.zeros_like(self.data_x)\n",
        "\n",
        "    def __len__(self):\n",
        "        return self.data_x.shape[0]\n",
        "    \n",
        "    def __getitem__(self, idx):\n",
        "        if torch.is_tensor(idx):\n",
        "            idx = idx.tolist()\n",
        "        y = 2\n",
        "        if self.split != 'test':\n",
        "            y = self.data_y[idx]\n",
        "\n",
        "        #Returning the mask for the dataloader\n",
        "\n",
        "        mask = np.zeros(len(self.data_x[idx]))\n",
        "        sentl = self.data_ns[idx]\n",
        "        total_dropped = 0\n",
        "        for j in range(0,sentl):\n",
        "            mask[j] = 1\n",
        "            if self.split == 'train': \n",
        "                rv = random.random()\n",
        "                if rv  < self.word_dropout: \n",
        "                    mask[j] = 0 \n",
        "                    total_dropped+=1\n",
        "        if total_dropped >= sentl: \n",
        "            mask[0] = 1\n",
        "        for i in range(sentl,len(self.data_x[idx])):\n",
        "            mask[i] = 0\n",
        "        self.mask[idx] = mask        \n",
        "        return self.data_x[idx], self.data_ns[idx], self.mask[idx], y\n",
        "        "
      ]
    },
    {
      "cell_type": "markdown",
      "metadata": {
        "id": "uKlnbGShNCDV"
      },
      "source": [
        "### 1.1.2 Training [TODO: 20 pts]"
      ]
    },
    {
      "cell_type": "markdown",
      "metadata": {
        "id": "QnSMLJcrsYC0"
      },
      "source": [
        "####  Masked Averaging\n",
        "\n",
        "In this section, you will need to compute the average word embedding of tokens in the input. One complication is that sentences come in different lengths, and we will need to keep track of this to correctly average. \n",
        "\n",
        "When a sentence is input into our network, it is mapped to list of token ids, up to some maximum length. We construct a matrix, M, where each row corresponds to a sentence, and entries correspond to integers representing tokens. Some sentences are, of course, shorter than this maximum length. For these sentences, we fill in the remaining elements of M with a pad index, up to the max length. This is a special pad index indicating we are beyond the end of a sentence. The dataloader takes care of this for you. When averaging, we need to ignore these elements. \n",
        "\n",
        "Irrespective of if a token is pad or a real token, the first step is to look up an embedding for the index in our embedding table (the first line of the forward method). At this point we will have retrieved some vectors that correspond to the pad tokens as well. We need to ignore these, and only average vectors that correspond to non-pad symbols. \n",
        "\n",
        "To help do so, often NLP applications will introduce a mask as part of the input. The mask is a binary vector for every sentence, where each position encodes whether the token is really from the sentence, or instead should be ignored. The shape of the mask is batch_size by maximum_length. Again, the dataloader has taken care of this for you. Your job will be to use this mask to ignore the embeddings components we don't want to average over.\n",
        "\n",
        "You have to perform the following steps:\n",
        "\n",
        "1. Change the view of the mask so it extends to the embeddings size. It started batch_size by maximum_length, but we need it to be batch_size by max_length by embed_dimension. The expand function will help.\n",
        "2. Pointwise multiply the expanded mask with the embeddings, to eliminate the tokens that aren't in the mask, and sum the rest (this is the `numerator` of our average). Remeber the mask is a binary vector, so the zeros correspond to elements we don't want in our average. The output of this sum should be batch_size by embed_dimension.\n",
        "4. Calculate the number of words in each sentence (this is the `denominator` of our average)\n",
        "3. return `x = numerator/denoninator` , the average\n",
        "\n",
        "Note: You can look at [expand](https://pytorch.org/docs/stable/generated/torch.Tensor.expand.html) in pytorch. "
      ]
    },
    {
      "cell_type": "markdown",
      "metadata": {
        "id": "M0aq_l_f4xiv"
      },
      "source": [
        "#### Defining the architecture for Deep Averaging Networks"
      ]
    },
    {
      "cell_type": "code",
      "execution_count": null,
      "metadata": {
        "id": "1q7oqyrCP8fK"
      },
      "outputs": [],
      "source": [
        "import random as random\n",
        "\n",
        "class DAN(nn.Module):\n",
        "\n",
        "    def __init__(self,\n",
        "                 n_embed=20000,\n",
        "                 d_embed=300,\n",
        "                 d_hidden=100,\n",
        "                 d_out=2,\n",
        "                 layer_dropout = 0.2,\n",
        "                 word_dropout = 0.3,\n",
        "                 embeddings=None,\n",
        "                 depth = 0):\n",
        "        super(DAN, self).__init__()\n",
        "\n",
        "        self.device = torch.device('cuda' if torch.cuda.is_available() else 'cpu')\n",
        "        self.embed = create_emb_layer(weights_matrix,False)\n",
        "\n",
        "        self.fc_out = nn.Linear(d_hidden, d_out)\n",
        "        self.word_dropout = word_dropout\n",
        "\n",
        "    def masked_mean(self,v, mask):\n",
        "        \"\"\"\n",
        "        Create the masked mean\n",
        "        \n",
        "        INPUT:\n",
        "        v       - input\n",
        "        mask    - mask that has 0 and 1 for all the tokens in the input\n",
        "                  0 corresponds to a token we should not include in the average and 1 otherwise\n",
        "\n",
        "        OUTPUT:\n",
        "        x       - average  \n",
        "        \n",
        "        \"\"\"\n",
        "        (batch, max_sent, d_embed ) = v.size() #these values we will be useful for expanding the mask      \n",
        "        #### STUDENT CODE HERE ####\n",
        "        mask =  #change the view of the mask so it extends to the embeddings size\n",
        "        den =  #the number surviving words\n",
        "        num =  #eliminate the tokens that aren't in the mask, and sum\n",
        "        x =    #average\n",
        "        #### STUDENT CODE ENDS HERE ####\n",
        "        return x\n",
        "\n",
        "    def forward(self, text_ids, mask):\n",
        "        embeddings = self.embed(text_ids) #this is a matrix of embeddings, one for each id, of size batch_size X max_sent_size X embedding dimension\n",
        "        avg = self.masked_mean(embeddings,mask) #should return the average of the embeddings, ignoring the embeddings corresponding to the pad token\n",
        "        output = self.fc_out(avg) #final classification layer\n",
        "        return output"
      ]
    },
    {
      "cell_type": "markdown",
      "metadata": {
        "id": "JmdzEvd2Nc2M"
      },
      "source": [
        "#### Training Loop"
      ]
    },
    {
      "cell_type": "code",
      "execution_count": null,
      "metadata": {
        "id": "4MLxfgD7M-aI"
      },
      "outputs": [],
      "source": [
        "criterion = nn.CrossEntropyLoss()\n",
        "\n",
        "batch_size = 64\n",
        "epochs = 3\n",
        "dev_every = 100\n",
        "lr = 0.001\n",
        "save_path = \"best_model\"\n",
        "drop_out = 0\n",
        "word_dropout = 0.01\n",
        "weight_decay = 1e-5"
      ]
    },
    {
      "cell_type": "code",
      "execution_count": null,
      "metadata": {
        "id": "HK3X1nSxCB8g"
      },
      "outputs": [],
      "source": [
        "\n",
        "def train(lr = .005, drop_out = 0, word_dropout = .3, batch_size = 16, weight_decay = 1e-5,args = None):\n",
        "    if args is not None:\n",
        "      drop_out = args[\"drop_out\"]\n",
        "      drop_out = args[\"drop_out\"]\n",
        "\n",
        "    device = torch.device('cuda' if torch.cuda.is_available() else 'cpu')\n",
        "    trainset = SSTpytorchDataset(ds, word_dropout, 'train')\n",
        "    testset = SSTpytorchDataset(ds, word_dropout, 'test')\n",
        "    devset = SSTpytorchDataset(ds, word_dropout, 'dev')\n",
        "\n",
        "    train_iter = DataLoader(trainset, batch_size, shuffle=True, num_workers=0)\n",
        "    test_iter = DataLoader(testset, batch_size, shuffle=False, num_workers=0)\n",
        "    dev_iter = DataLoader(devset, batch_size, shuffle=False, num_workers=0)\n",
        "    \n",
        "    model = DAN(n_embed=n_embed, d_embed=d_embed, d_hidden=300, d_out=d_out, layer_dropout=drop_out, word_dropout = word_dropout )\n",
        "    model.to(device)\n",
        "\n",
        "    optimizer = optim.AdamW(model.parameters(), lr=lr, weight_decay = weight_decay)\n",
        "\n",
        "\n",
        "    acc, val_loss = evaluate(dev_iter, model, device)\n",
        "    best_acc = acc\n",
        "\n",
        "    print(\n",
        "        'epoch |   %        |  loss  |  avg   |val loss|   acc   |  best  | time | save |')\n",
        "    print(\n",
        "        'val   |            |        |        | {:.4f} | {:.4f} | {:.4f} |      |      |'.format(\n",
        "            val_loss, acc, best_acc))\n",
        "\n",
        "    iterations = 0\n",
        "    last_val_iter = 0\n",
        "    train_loss = 0\n",
        "    start = time.time()\n",
        "    _save_ckp = ''\n",
        "    for epoch in range(epochs):\n",
        "        # train_iter.init_epoch()\n",
        "        n_correct, n_total, train_loss = 0, 0, 0\n",
        "        last_val_iter = 0\n",
        "        for batch_idx, batch in enumerate(train_iter):\n",
        "            # switch model to training mode, clear gradient accumulators\n",
        "            model.train();\n",
        "            optimizer.zero_grad()\n",
        "\n",
        "            iterations += 1\n",
        "\n",
        "            data, ns, mask, label = batch\n",
        "            \n",
        "            data = data.to(device)\n",
        "            label = label.to(device).long()\n",
        "            mask = mask.to(device).long()\n",
        "            mask.requires_grad = False\n",
        "\n",
        "            answer = model(data,mask)\n",
        "            loss = criterion(answer, label)\n",
        "\n",
        "            loss.backward();\n",
        "            optimizer.step()\n",
        "\n",
        "            train_loss += loss.item()\n",
        "            print('\\r {:4d} | {:4d}/{} | {:.4f} | {:.4f} |'.format(\n",
        "                epoch, batch_size * (batch_idx + 1), len(trainset), loss.item(),\n",
        "                       train_loss / (iterations - last_val_iter)), end='')\n",
        "\n",
        "            if iterations > 0 and iterations % dev_every == 0:\n",
        "                acc, val_loss= evaluate(dev_iter, model, device)\n",
        "\n",
        "                if acc > best_acc:\n",
        "                    best_acc = acc\n",
        "                    torch.save(model.state_dict(), save_path)\n",
        "                    _save_ckp = '*'\n",
        "\n",
        "                print(\n",
        "                    ' {:.4f} | {:.4f} | {:.4f} | {:.2f} | {:4s} |'.format(\n",
        "                        val_loss, acc, best_acc, (time.time() - start) / 60,\n",
        "                        _save_ckp))\n",
        "\n",
        "                train_loss = 0\n",
        "                last_val_iter = iterations\n",
        "    model.load_state_dict(torch.load(save_path)) #this will be the best model\n",
        "    test_y_pred = evaluate(test_iter,model, device,\"test\")\n",
        "    print(\"\\nValidation Accuracy : \", evaluate(dev_iter,model, device))\n",
        "    return best_acc, test_y_pred\n"
      ]
    },
    {
      "cell_type": "code",
      "execution_count": null,
      "metadata": {
        "id": "jaMw5RMINjZd"
      },
      "outputs": [],
      "source": [
        "\n",
        "def evaluate(loader, model, device, split = \"dev\"):\n",
        "    model.eval()\n",
        "    n_correct, n = 0, 0\n",
        "    losses = []\n",
        "    y_pred = []\n",
        "    with torch.no_grad():\n",
        "        for batch_idx, batch in enumerate(loader):\n",
        "            data, ns, mask, label = batch\n",
        "            data = data.to(device)\n",
        "            label = label.to(device).long()\n",
        "            mask = mask.to(device).long()\n",
        "            answer = model(data,mask)\n",
        "            if split != \"test\":\n",
        "                n_correct += (torch.max(answer, 1)[1].view(label.size()) == label).sum().item()\n",
        "                n += answer.shape[0]\n",
        "                loss = criterion(answer, label)\n",
        "                losses.append(loss.data.cpu().numpy())\n",
        "            else:\n",
        "                y_pred.extend(torch.max(answer, 1)[1].view(label.size()).tolist())\n",
        "    if split != \"test\":\n",
        "        acc = 100. * n_correct / n\n",
        "        loss = np.mean(losses)\n",
        "        return acc, loss\n",
        "    else:\n",
        "        return y_pred\n"
      ]
    },
    {
      "cell_type": "markdown",
      "metadata": {
        "id": "tFF_2GQXhqGz"
      },
      "source": [
        "Run this to get the validation accuracy on the dev dataset and the predictions of the test dataset."
      ]
    },
    {
      "cell_type": "code",
      "execution_count": null,
      "metadata": {
        "id": "x7FkX-MDokS7"
      },
      "outputs": [],
      "source": [
        "torch.manual_seed(1234)\n",
        "\n",
        "epochs = 3 \n",
        "dev_value, test_y_pred = train(lr, batch_size, word_dropout, batch_size, weight_decay) "
      ]
    },
    {
      "cell_type": "code",
      "execution_count": null,
      "metadata": {
        "id": "Z1hq5605hbjx"
      },
      "outputs": [],
      "source": [
        "# PennGrader Grading Cell\n",
        "if NOTEBOOK:\n",
        "    grader.grade(test_case_id = 'test_dan_predictions', answer = test_y_pred)"
      ]
    },
    {
      "cell_type": "markdown",
      "source": [
        "## 1.2 Transformer [10 pts, Autograded]\n",
        "\n",
        "In Lecture 18 we have discussed the heated model architecture Transformers. The original paper that proposed Transformer is [Attention Is All You Need (Vaswani et al. 2017)](https://arxiv.org/abs/1706.03762), and you can read it if interested.\n",
        "\n",
        "Recall that it is a composition of self-attention layers, here is a graph representation of the architecture:\n",
        "![transformer architecture](https://d2l.ai/_images/transformer.svg)\n",
        "\n",
        "So the idea of self-attention is essential for Transformers, and in this homework question your task is to implement the multi-head attention block in a Transformer."
      ],
      "metadata": {
        "id": "4tAw9tgbGY1D"
      }
    },
    {
      "cell_type": "markdown",
      "source": [
        "### 1.2.1 Helper functions\n",
        "\n",
        "There is no code that you need to write here, but you do need to run this section!"
      ],
      "metadata": {
        "id": "bP0L25asIZvl"
      }
    },
    {
      "cell_type": "code",
      "source": [
        "# importing required libraries\n",
        "import torch.nn as nn\n",
        "import torch\n",
        "import torch.nn.functional as F\n",
        "import math,copy,re\n",
        "import warnings\n",
        "import pandas as pd\n",
        "import numpy as np\n",
        "import seaborn as sns\n",
        "import torchtext\n",
        "import matplotlib.pyplot as plt\n",
        "warnings.simplefilter(\"ignore\")"
      ],
      "metadata": {
        "id": "mfesBhaeH7vy"
      },
      "execution_count": null,
      "outputs": []
    },
    {
      "cell_type": "code",
      "source": [
        "cur_device = torch.device('cuda' if torch.cuda.is_available() else 'cpu')\n",
        "class PositionalEncoder(nn.Module):\n",
        "    def __init__(self, embed_dim, max_len=300, device=cur_device):\n",
        "        super().__init__()\n",
        "        self.position_embedding = torch.zeros((1, max_len, embed_dim)).to(device)\n",
        "        i = torch.arange(max_len, dtype=torch.float32).reshape(-1, 1)\n",
        "        j2 = torch.arange(0, embed_dim, step=2, dtype=torch.float32)\n",
        "        x = i / torch.pow(10000, j2 / embed_dim)\n",
        "        self.position_embedding[..., 0::2] = torch.sin(x)\n",
        "        self.position_embedding[..., 1::2] = torch.cos(x)\n",
        "\n",
        "    def forward(self, x):\n",
        "        x_plus_p = x + self.position_embedding[:, : x.shape[1]]\n",
        "        return x_plus_p"
      ],
      "metadata": {
        "id": "XyqPvjUtGdn0"
      },
      "execution_count": null,
      "outputs": []
    },
    {
      "cell_type": "code",
      "source": [
        "class ResidualNorm(nn.Module):\n",
        "    def __init__(self, embed_dim):\n",
        "        super().__init__()\n",
        "        self.norm = nn.LayerNorm(embed_dim)\n",
        "\n",
        "    def forward(self, x, residual):\n",
        "        return self.norm(x + residual)\n",
        "\n",
        "\n",
        "class Feedforward(nn.Module):\n",
        "    def __init__(self, embed_dim, hidden_dim):\n",
        "        super().__init__()\n",
        "        self.fc1 = nn.Linear(embed_dim, hidden_dim)\n",
        "        self.fc2 = nn.Linear(hidden_dim, embed_dim)\n",
        "\n",
        "    def forward(self, x):\n",
        "        return self.fc2(F.relu(self.fc1(x)))"
      ],
      "metadata": {
        "id": "tMbEDKEkJQ2J"
      },
      "execution_count": null,
      "outputs": []
    },
    {
      "cell_type": "markdown",
      "source": [
        "### 1.2.2 Multihead Attention [TODO: 10 pts]\n",
        "\n",
        "Recall that the attention mechanism requires three main components:\n",
        "\n",
        " - the values vectors V \n",
        " - the query vectors Q \n",
        " - the key vectors K \n",
        "\n",
        " And for self-attention, these are all calulated from the original input using three different learnable weight matrices. Essentially we are trying to see that how similar are my queries and keys and use this attention score to construct a weight sum of my values.\n",
        "\n",
        " As for Multihead attention, each head will attend to a set of (V, Q, K) values, so we need to replicate (V, Q, K) n times if we have n number of attention heads. This is done by our helper function `mha_transform_input`. You will also need to transform the output back to the correct size at the end to make sure that it can be used as input to future layers using `mha_transform_output`."
      ],
      "metadata": {
        "id": "1goKvQT7JgQK"
      }
    },
    {
      "cell_type": "code",
      "source": [
        "def masked_softmax(x, mask):\n",
        "    \"\"\"Applies softmax on a masked version of the input.\n",
        "    Args:\n",
        "      x (n_batch, n_tokens, t_tokens): - the scaled dot product of Q and K\n",
        "      mask (n_batch, n_tokens): - binary mask, all values = 0 will be set to -inf\n",
        "    Returns:\n",
        "      (n_batch, n_tokens, n_tokens): the result of applying softmax along the last\n",
        "        dimension of the masked input.\n",
        "    \"\"\"\n",
        "    return F.softmax(x.masked_fill_(mask.unsqueeze(1) == 0, float(\"-inf\")), dim=-1)\n",
        "\n",
        "\n",
        "def mha_transform_input(x, n_heads, head_dim):\n",
        "    \"\"\"Restructure the input tensors to compute the heads in parallel\n",
        "    Requires that head_dim = embed_dim / n_heads\n",
        "    Args:\n",
        "      x (n_batch, n_tokens, embed_dim): input tensor, one of queries, keys, or values\n",
        "      n_heads (int): the number of attention heads\n",
        "      head_dim (int): the dimensionality of each head\n",
        "    Returns:\n",
        "      (n_batch*n_heads, n_tokens, head_dim): 3D Tensor containing all the input heads\n",
        "    \"\"\"\n",
        "    n_batch, n_tokens, _ = x.shape\n",
        "    x = x.reshape((n_batch, n_tokens, n_heads, head_dim))\n",
        "    x = x.permute(0, 2, 1, 3)\n",
        "    return x.reshape((n_batch * n_heads, n_tokens, head_dim))\n",
        "\n",
        "\n",
        "def mha_transform_output(x, n_heads, head_dim):\n",
        "    \"\"\"Restructures the output back to the original format\n",
        "    Args:\n",
        "      x (n_bacth*n_heads, n_tokens, head_dim): multi-head representation tensor\n",
        "      n_heads (int): the number of attention heads\n",
        "      head_dim (int): the dimensionality of each head\n",
        "    Returns:\n",
        "      (n_batch, n_tokens, embed_dim): 3D Tensor containing all the input heads\n",
        "    \"\"\"\n",
        "    n_concat, n_tokens, _ = x.shape\n",
        "    n_batch = n_concat // n_heads\n",
        "    x = x.reshape((n_batch, n_heads, n_tokens, head_dim))\n",
        "    x = x.permute(0, 2, 1, 3)\n",
        "    return x.reshape((n_batch, n_tokens, n_heads * head_dim))\n",
        "\n",
        "\n",
        "class ScaledDotProductAttention(nn.Module):\n",
        "    def __init__(self, embed_dim):\n",
        "        super().__init__()\n",
        "        self.embed_dim = embed_dim\n",
        "\n",
        "    def forward(self, queries, keys, values, mask):\n",
        "        \"\"\"\n",
        "        Args:\n",
        "          queries (n_batch, n_tokens, embed_dim): queries (Q) tensor\n",
        "          keys (n_batch, n_tokens, embed_dim): keys (K) tensor\n",
        "          values (n_batch, n_tokens, embed_dim): values (V) tensor\n",
        "          mask (n_batch, n_tokens): binary mask tensor\n",
        "        Returns:\n",
        "          (n_batch, n_tokens, embed_dim): scaled dot product attention tensor\n",
        "        \"\"\"\n",
        "        #### STUDENT CODE HERE ####\n",
        "        # 1. Calculate the batched dot product of queries and keys\n",
        "\n",
        "        # 2. Scale it by the square root of embedding dimensions\n",
        "\n",
        "       \n",
        "\n",
        "        # 3. Pass the scaled dot product through masked_softmax to get attention weights\n",
        "\n",
        "       \n",
        "\n",
        "        # 4. Compute final attention using the attention weights and values\n",
        "        attention = ...\n",
        "\n",
        "        #### STUDENT CODE ENDS HERE ####\n",
        "        return attention\n",
        "\n",
        "\n",
        "class MultiHeadAttention(nn.Module):\n",
        "    def __init__(self, n_heads, embed_dim):\n",
        "        super().__init__()\n",
        "        self.n_heads = n_heads\n",
        "        self.head_dim = embed_dim // n_heads\n",
        "\n",
        "        self.attention = ScaledDotProductAttention(embed_dim)\n",
        "\n",
        "        #### STUDENT CODE HERE ####\n",
        "        # Define the weight matrices for each of Q, K, and V\n",
        "        # Please strictly follow this order of initialization\n",
        "        # You can do this with fully connected linear layers \n",
        "        # Remember to set bias=False to make sure that it is pure weight matrices\n",
        "        self.query_fc = \n",
        "        self.key_fc = \n",
        "        self.value_fc = \n",
        "\n",
        "        \n",
        "        #### STUDENT CODE ENDS HERE ####\n",
        "\n",
        "        self.out_fc = nn.Linear(embed_dim, embed_dim, bias=False)\n",
        "\n",
        "    def forward(self, queries, keys, values, mask):\n",
        "        \"\"\"\n",
        "        Args:\n",
        "          queries (n_batch, n_tokens, embed_dim): queries (Q) tensor\n",
        "          keys (n_batch, n_tokens, embed_dim): keys (K) tensor\n",
        "          values (n_batch, n_tokens, embed_dim): values (V) tensor\n",
        "          mask (n_batch, n_tokens): binary mask tensor\n",
        "        Returns:\n",
        "          (n_batch, n_tokens, embed_dim): multi-head attention tensor\n",
        "        \"\"\"\n",
        "        #### STUDENT CODE HERE ####\n",
        "        # For each of V, Q, and K\n",
        "        # 1. Multiply its corresponding weight matrix (passing through the Linear layer)\n",
        "\n",
        "        # 2. Use mha_transform_input to transform it into multihead\n",
        "        \n",
        "\n",
        "        # 3. Calculate the attention results\n",
        "\n",
        "        # 4. Use mha_transform_output to transform it back into the correct size\n",
        "\n",
        "        # 5. Pass the results through the output fully connect layer\n",
        "\n",
        "        \n",
        "        attention = ...\n",
        "        #### STUDENT CODE ENDS HERE ####\n",
        "        return attention"
      ],
      "metadata": {
        "id": "-z2RSkbcJbPi"
      },
      "execution_count": null,
      "outputs": []
    },
    {
      "cell_type": "markdown",
      "source": [
        "#### Test your Multihead Attention implementation"
      ],
      "metadata": {
        "id": "CufZYbn9Qk8y"
      }
    },
    {
      "cell_type": "code",
      "source": [
        "embed_dim = 1\n",
        "my_scaled = ScaledDotProductAttention(embed_dim)\n",
        "\n",
        "torch.manual_seed(522)\n",
        "src_tokens = torch.Tensor([[[7],[8],[5],[1],[10]]]).to(cur_device)\n",
        "src_mask = torch.IntTensor([[1,1,1,1,0]]).to(cur_device)\n",
        "\n",
        "# HINT: scaled_answer should have shape (1, 5, 2)\n",
        "scaled_answer = my_scaled(src_tokens, src_tokens, src_tokens, src_mask).cpu().numpy()"
      ],
      "metadata": {
        "id": "UhjesZP1Q_H8"
      },
      "execution_count": null,
      "outputs": []
    },
    {
      "cell_type": "code",
      "source": [
        "# PennGrader Grading Cell\n",
        "if NOTEBOOK:\n",
        "    grader.grade(test_case_id = 'test_scaled_dot_product', answer = scaled_answer)"
      ],
      "metadata": {
        "id": "gR7T3nQeVWIg"
      },
      "execution_count": null,
      "outputs": []
    },
    {
      "cell_type": "code",
      "source": [
        "n_heads = 2\n",
        "embed_dim = 2\n",
        "my_att = MultiHeadAttention(n_heads, embed_dim)\n",
        "\n",
        "torch.manual_seed(522)\n",
        "src_tokens = torch.Tensor([[[2, 7],[3, 8],[4, 5],[9, 1],[2, 10]]])\n",
        "src_mask = torch.IntTensor([[1,1,1,1,0]])\n",
        "\n",
        "# HINT: att_answer should have shape (1, 5, 2)\n",
        "att_answer = my_att(src_tokens, src_tokens, src_tokens, src_mask).detach().numpy()"
      ],
      "metadata": {
        "id": "EuKeYAMpQcg1"
      },
      "execution_count": null,
      "outputs": []
    },
    {
      "cell_type": "code",
      "source": [
        "# PennGrader Grading Cell\n",
        "if NOTEBOOK:\n",
        "    grader.grade(test_case_id = 'test_multihead_attention', answer = att_answer)"
      ],
      "metadata": {
        "id": "QR4fxUXBXN7e"
      },
      "execution_count": null,
      "outputs": []
    },
    {
      "cell_type": "markdown",
      "source": [
        "#### Other part of the Transformers code\n",
        "\n",
        "Run this!"
      ],
      "metadata": {
        "id": "FK8IoX2EOpWv"
      }
    },
    {
      "cell_type": "code",
      "source": [
        "class EncoderBlock(nn.Module):\n",
        "    def __init__(self, n_heads, embed_dim, hidden_dim):\n",
        "        super().__init__()\n",
        "        self.attention = MultiHeadAttention(n_heads, embed_dim)\n",
        "        self.norm1 = ResidualNorm(embed_dim)\n",
        "        self.feedforward = Feedforward(embed_dim, hidden_dim)\n",
        "        self.norm2 = ResidualNorm(embed_dim)\n",
        "\n",
        "    def forward(self, src_tokens, src_mask):\n",
        "        \"\"\"\n",
        "        Args:\n",
        "          src_tokens (n_batch, n_tokens, embed_dim): the source sequence\n",
        "          src_mask (n_batch, n_tokens): binary mask over the source\n",
        "        Returns:\n",
        "          (n_batch, n_tokens, embed_dim): the encoder state\n",
        "        \"\"\"\n",
        "        # First compute self-attention on the source tokens by passing them in\n",
        "        # as the queries, keys, and values to the attention module.\n",
        "        self_attention = self.attention(src_tokens, src_tokens, src_tokens, src_mask)\n",
        "        # Next compute the norm of the self-attention result with a residual\n",
        "        # connection from the source tokens\n",
        "        normed_attention = self.norm1(self_attention, src_tokens)\n",
        "        # Pass the normed attention result through the feedforward component\n",
        "        ff_out = self.feedforward(normed_attention)\n",
        "        # Finally compute the norm of the feedforward output with a residual\n",
        "        # connection from the normed attention output\n",
        "        out = self.norm2(ff_out, normed_attention)\n",
        "        return out"
      ],
      "metadata": {
        "id": "l96uiPyUOgg9"
      },
      "execution_count": null,
      "outputs": []
    },
    {
      "cell_type": "code",
      "source": [
        "class Encoder(nn.Module):\n",
        "    def __init__(self, vocab_size, embed_dim, hidden_dim, n_heads, n_blocks):\n",
        "        super().__init__()\n",
        "        self.embedding = nn.Embedding(vocab_size, embed_dim).to(cur_device)\n",
        "        self.positional_encoding = PositionalEncoder(embed_dim).to(cur_device)\n",
        "        self.encoder_blocks = nn.ModuleList(\n",
        "            [EncoderBlock(n_heads, embed_dim, hidden_dim) for _ in range(n_blocks)]\n",
        "        ).to(cur_device)\n",
        "\n",
        "    def forward(self, src_tokens, src_mask):\n",
        "        x = self.embedding(src_tokens)\n",
        "        x = self.positional_encoding(x)\n",
        "        for block in self.encoder_blocks:\n",
        "            x = block(x, src_mask)\n",
        "        return x"
      ],
      "metadata": {
        "id": "9Tq2PTyUOvAl"
      },
      "execution_count": null,
      "outputs": []
    },
    {
      "cell_type": "code",
      "source": [
        "class DecoderBlock(nn.Module):\n",
        "    def __init__(self, n_heads, embed_dim, hidden_dim):\n",
        "        super().__init__()\n",
        "        self.self_attention = MultiHeadAttention(n_heads, embed_dim)\n",
        "        self.norm1 = ResidualNorm(embed_dim)\n",
        "        self.encoder_attention = MultiHeadAttention(n_heads, embed_dim)\n",
        "        self.norm2 = ResidualNorm(embed_dim)\n",
        "        self.feedforward = Feedforward(embed_dim, hidden_dim)\n",
        "        self.norm3 = ResidualNorm(embed_dim)\n",
        "\n",
        "    def forward(self, tgt_tokens, tgt_mask, encoder_state, src_mask):\n",
        "        \"\"\"\n",
        "        Args:\n",
        "          tgt_tokens (n_batch, n_tokens, embed_dim): the target sequence\n",
        "          tgt_mask (n_batch, n_tokens): binary mask over the target tokens\n",
        "          encoder_state (n_batch, n_tokens, embed_dim): the output of the encoder pass\n",
        "          src_mask (n_batch, n_tokens): binary mask over the source tokens\n",
        "        Returns:\n",
        "          (n_batch, n_tokens, embed_dim): the decoder state\n",
        "        \"\"\"\n",
        "        # First compute self-attention on the target tokens by passing them in\n",
        "        # as the queries, keys, and values to the attention module along with the\n",
        "        # target mask.\n",
        "        self_attention = self.self_attention(tgt_tokens, tgt_tokens, tgt_tokens, tgt_mask)\n",
        "        # Next compute the norm of the self-attention result with a residual\n",
        "        # connection from the target tokens\n",
        "        normed_self_attention = self.norm1(self_attention, tgt_tokens)\n",
        "        # Compute the encoder attention by using the normed self-attention output as\n",
        "        # the queries and the encoder state as the keys and values along with the\n",
        "        # source mask.\n",
        "        encoder_attention = self.encoder_attention(normed_self_attention, encoder_state, encoder_state, src_mask)\n",
        "        # Next compute the norm of the encoder attention result with a residual\n",
        "        # connection from the normed self-attention\n",
        "        normed_encoder_attention = self.norm2(encoder_attention, normed_self_attention)\n",
        "        # Pass the normed encoder attention result through the feedforward component\n",
        "        ff_out = self.feedforward(normed_encoder_attention)\n",
        "        # Finally compute the norm of the feedforward output with a residual\n",
        "        # connection from the normed attention output\n",
        "        out = self.norm3(ff_out, normed_encoder_attention)\n",
        "        return out"
      ],
      "metadata": {
        "id": "svwo2qeVO7Ke"
      },
      "execution_count": null,
      "outputs": []
    },
    {
      "cell_type": "code",
      "source": [
        "class Decoder(nn.Module):\n",
        "    def __init__(self, vocab_size, embed_dim, hidden_dim, n_heads, n_blocks):\n",
        "        super().__init__()\n",
        "        self.embedding = nn.Embedding(vocab_size, embed_dim).to(cur_device)\n",
        "        self.positional_encoding = PositionalEncoder(embed_dim).to(cur_device)\n",
        "        self.decoder_blocks = nn.ModuleList(\n",
        "            [DecoderBlock(n_heads, embed_dim, hidden_dim) for _ in range(n_blocks)]\n",
        "        ).to(cur_device)\n",
        "\n",
        "    def forward(self, tgt_tokens, tgt_mask, encoder_state, src_mask):\n",
        "        x = self.embedding(tgt_tokens)\n",
        "        x = self.positional_encoding(x)\n",
        "        for block in self.decoder_blocks:\n",
        "            x = block(x, tgt_mask, encoder_state, src_mask)\n",
        "        return x"
      ],
      "metadata": {
        "id": "HgLIgcCPPBSX"
      },
      "execution_count": null,
      "outputs": []
    },
    {
      "cell_type": "code",
      "source": [
        "class Transformer(nn.Module):\n",
        "    def __init__(\n",
        "        self, src_vocab_size, tgt_vocab_size, embed_dim, hidden_dim, n_heads, n_blocks\n",
        "    ):\n",
        "        super().__init__()\n",
        "        self.encoder = Encoder(src_vocab_size, embed_dim, hidden_dim, n_heads, n_blocks)\n",
        "        self.decoder = Decoder(tgt_vocab_size, embed_dim, hidden_dim, n_heads, n_blocks)\n",
        "        self.out = nn.Linear(embed_dim, tgt_vocab_size).to(cur_device)\n",
        "\n",
        "    def forward(self, src_tokens, src_mask, tgt_tokens, tgt_mask):\n",
        "        # Compute the encoder output state from the source tokens and mask\n",
        "        encoder_state = self.encoder(src_tokens, src_mask)\n",
        "        # Compute the decoder output state from the target tokens and mask as well\n",
        "        # as the encoder state and source mask\n",
        "        decoder_state = self.decoder(tgt_tokens, tgt_mask, encoder_state, src_mask)\n",
        "        # Compute the vocab scores by passing the decoder state through the output\n",
        "        # linear layer\n",
        "        out = self.out(decoder_state)\n",
        "        return out"
      ],
      "metadata": {
        "id": "6nBwmZ0qPO8y"
      },
      "execution_count": null,
      "outputs": []
    },
    {
      "cell_type": "markdown",
      "source": [
        "#### Test your implementation works with the entire Transformer implementation"
      ],
      "metadata": {
        "id": "SdRKWXXkPgTR"
      }
    },
    {
      "cell_type": "code",
      "source": [
        "# Test for Transformer\n",
        "torch.manual_seed(522)\n",
        "src_vocab_size = tgt_vocab_size = 5\n",
        "n_blocks, n_heads, batch_size, embed_dim, hidden_dim = 10, 2, 1, 4, 8\n",
        "src_tokens = tgt_tokens = torch.IntTensor([[0,1,2,3,4]]).to(cur_device)\n",
        "src_mask = tgt_mask = torch.IntTensor([[1,1,1,1,1]]).to(cur_device)\n",
        "\n",
        "transformer = Transformer(src_vocab_size, tgt_vocab_size, embed_dim, hidden_dim, n_heads, n_blocks)\n",
        "\n",
        "# HINT: trans_answer should have shape (1, 5, 5)\n",
        "trans_answer = transformer(src_tokens, src_mask, tgt_tokens, tgt_mask).cpu().detach().numpy()"
      ],
      "metadata": {
        "id": "WQx8lWdhPZV6"
      },
      "execution_count": null,
      "outputs": []
    },
    {
      "cell_type": "code",
      "source": [
        "# PennGrader Grading Cell\n",
        "if NOTEBOOK:\n",
        "    grader.grade(test_case_id = 'test_transformer', answer = trans_answer)"
      ],
      "metadata": {
        "id": "FowQZP0YYYE6"
      },
      "execution_count": null,
      "outputs": []
    },
    {
      "cell_type": "markdown",
      "metadata": {
        "id": "iR-DGV_94HJx"
      },
      "source": [
        "#2.Reinforcement Learning Section [18pts Autograded, 4pts Manually graded]"
      ]
    },
    {
      "cell_type": "code",
      "execution_count": null,
      "metadata": {
        "id": "mloN11-laGA6"
      },
      "outputs": [],
      "source": [
        "if NOTEBOOK:\n",
        "  \"\"\"\n",
        "  installing dependencies\n",
        "  \"\"\"\n",
        "  !apt-get update\n",
        "  !apt-get -qq -y install libnvtoolsext1 > /dev/null\n",
        "  !ln -snf /usr/lib/x86_64-linux-gnu/libnvrtc-builtins.so.8.0 /usr/lib/x86_64-linux-gnu/libnvrtc-builtins.so\n",
        "  !apt-get -qq -y install xvfb freeglut3-dev ffmpeg> /dev/null\n",
        "  !pip -q install gym[classic_control]\n",
        "  !pip -q install pyglet\n",
        "  !pip -q install pyopengl\n",
        "  !pip -q install pyvirtualdisplay\n",
        "  !apt-get install xvfb"
      ]
    },
    {
      "cell_type": "code",
      "execution_count": null,
      "metadata": {
        "id": "M_8V6fYxaH6x"
      },
      "outputs": [],
      "source": [
        "\"\"\"\n",
        "Imports\n",
        "\"\"\"\n",
        "\n",
        "import gym\n",
        "import numpy as np\n",
        "import math\n",
        "import matplotlib.pyplot as plt\n",
        "from collections import deque\n",
        "import random\n",
        "from gym import wrappers\n",
        "import torch\n",
        "from pyvirtualdisplay import Display\n",
        "display = Display(visible=0, size=(1024, 768))\n",
        "display.start()\n",
        "import os\n",
        "\n",
        "import matplotlib.animation\n",
        "import numpy as np\n",
        "from IPython.display import HTML"
      ]
    },
    {
      "cell_type": "code",
      "execution_count": null,
      "metadata": {
        "id": "WR-sHW-Yae3w"
      },
      "outputs": [],
      "source": [
        "## Wrapper for Rendering the Environment\n",
        "\n",
        "class ResizeObservation(gym.Wrapper):\n",
        "    def __init__(self, env, shape):\n",
        "        super(ResizeObservation, self).__init__(env)\n",
        "        if isinstance(shape, int):\n",
        "            shape = (shape, shape)\n",
        "        assert all(x > 0 for x in shape), shape\n",
        "        self.env = env\n",
        "        self.shape = tuple(shape)\n",
        "\n",
        "    def render(self):\n",
        "\n",
        "        from PIL import Image\n",
        "        obs = self.env.render(mode = 'rgb_array')\n",
        "        im = Image.fromarray(np.uint8(obs))\n",
        "        im = im.resize(self.shape)\n",
        "        return np.asarray(im)\n",
        "\n",
        "resize_observation_shape = 100\n"
      ]
    },
    {
      "cell_type": "markdown",
      "metadata": {
        "id": "10aD0AWF5LvF"
      },
      "source": [
        "### 2.1 Discretize the state [TODO: 3pts]"
      ]
    },
    {
      "cell_type": "markdown",
      "metadata": {
        "id": "DPREgT6I5MU1"
      },
      "source": [
        "The state of Mountain Car is represented by a vector of 2 (float) values. The first element of the state vector represents the cart’s position, and the second element represents the cart’s velocity. You can use `env.observation_space.low` and `env.observation_space.high` to find out its upper and lower bound. \n",
        "\n",
        "\n",
        "As you can see the state space of the Mountain Car is continuous, which means that there are infinitely many state-action pairs , making basic Q-learning impossible to satisfy this condition. Instead, for a simple environment like Mountain Car, we can discretize the continuous state space and round the state to nearest discretization state. Then use the discretization state as the index of Q value matrix.\n",
        "\n",
        "For example, let us say you have a continuous state with range of [0.5, 1], and you want to discretize it in the range [1, 100] (only integers). You have to linearly map the continuous interval [0.5, 1] to the discrete interval [1, 100], therefore a number like .75 would go to 25. \n",
        "\n",
        "The linear mapping from a continuous value $c$ to its equivalent discrete value $d$ would be expressed as:\n",
        "\n",
        "$$d = \\text{round}\\left((c - state.minimum) * discretization scale \\right)$$"
      ]
    },
    {
      "cell_type": "code",
      "execution_count": null,
      "metadata": {
        "id": "s8WtSP845IZQ"
      },
      "outputs": [],
      "source": [
        "def discretize(state, discretization, env):\n",
        "    \"\"\"    \n",
        "    Discretize the continuous state to a given discretization range.\n",
        "    Args:\n",
        "        state (np.array, shape=(2,)): the observation state, here it is [position, velocity]\n",
        "        discretization(np.array, shape=(2,)): the discretization ,by default, it is np.array([100,10])\n",
        "        env: the RL environment \n",
        "        \n",
        "    Returns:\n",
        "        discretized_state (np.array, shape=(2,), dtype=int): the discretized state\n",
        "    \"\"\"\n",
        "\n",
        "    #### STUDENT CODE HERE ####\n",
        "\n",
        "    #subtract low_state from state, then multiply elementwise by discretization vector\n",
        "    \n",
        "    #round elements of discretized state to ints\n",
        "\n",
        "    #### STUDENT CODE ENDS HERE ####\n",
        "                     \n",
        "    return discretized_state"
      ]
    },
    {
      "cell_type": "code",
      "execution_count": null,
      "metadata": {
        "id": "-lTigjq65E3P"
      },
      "outputs": [],
      "source": [
        "def test_discretization():\n",
        "    test_state = np.array([0.556, 0.6])\n",
        "    discretization = np.array([100, 10])\n",
        "    env = gym.make('MountainCar-v0')\n",
        "    env = ResizeObservation(env, resize_observation_shape)\n",
        "    d = discretize(test_state, discretization, env)\n",
        "    print(d)\n",
        "    if d.shape != tuple([2]) or d[0] != 176 or d[1] != 7:\n",
        "        print(\"Incorrect discretization\")\n",
        "    else:\n",
        "        print(\"Well done\")\n",
        "\n",
        "if NOTEBOOK == 1:\n",
        "    test_discretization()\n",
        "    "
      ]
    },
    {
      "cell_type": "code",
      "execution_count": null,
      "metadata": {
        "id": "TiIhvQKp5F6a"
      },
      "outputs": [],
      "source": [
        "# PennGrader Grading Cell\n",
        "if NOTEBOOK:\n",
        "    test = np.array([.12,.56])\n",
        "    space = np.array([6,20])\n",
        "    env = gym.make('MountainCar-v0')\n",
        "    d = discretize(test, space, env)\n",
        "    grader.grade(test_case_id = 'test_discretize', answer = d)"
      ]
    },
    {
      "cell_type": "markdown",
      "metadata": {
        "id": "p6UqMyZxa4G4"
      },
      "source": [
        "### 2.2 Choose action for a certain state [TODO: 2pts]"
      ]
    },
    {
      "cell_type": "markdown",
      "metadata": {
        "id": "GWvIaFHHa9TM"
      },
      "source": [
        "Suppose now you are already given a state and a certain Q value matrix, the naive way is just choosing the action with highest Q value. However, in the real world it's better to consider the randomness of the action while learning, it could lead to a more robust controller and also let agent explore the environment.\n",
        "\n",
        "In this part, you need to implement an **epsilon greedy strategy** to choose action for a certain state.  **Epsilon greedy strategy** means that, given a threshold epsilon (between 0 and 1), your controller would have the probability of epsilon of just outputing a random action. For the rest of the time, it chooses the action with highest Q value. \n",
        "\n",
        "Implement this strategy in the `choose_action` function."
      ]
    },
    {
      "cell_type": "code",
      "execution_count": null,
      "metadata": {
        "id": "15YRXq2IbBWj"
      },
      "outputs": [],
      "source": [
        "def choose_action(epsilon, Q, state, env):\n",
        "    \"\"\"    \n",
        "    Choose an action according to an epsilon greedy strategy.\n",
        "    Args:\n",
        "        epsilon (float): the probability of choosing a random action\n",
        "        Q (np.array): The Q value matrix, here it is 3D for the two observation states and action states\n",
        "        state (np.array): the observation state, here it is [position, velocity]\n",
        "        env: the RL environment \n",
        "        \n",
        "    Returns:\n",
        "        action (int): the chosen action\n",
        "    \"\"\"\n",
        "    action = 0\n",
        "    random.seed(42)\n",
        "    #### STUDENT CODE HERE ####\n",
        "    ...\n",
        "\n",
        "    #### STUDENT CODE ENDS HERE ####\n",
        "\n",
        "    return action\n"
      ]
    },
    {
      "cell_type": "code",
      "execution_count": null,
      "metadata": {
        "id": "gsKG_0TBbKla"
      },
      "outputs": [],
      "source": [
        "\n",
        "def test_choose_action_shape():\n",
        "    Q = np.random.uniform(low = -1, \n",
        "                        high = 1, \n",
        "                        size = (100, 10, env.action_space.n))\n",
        "    a = [choose_action(0.7, Q, (5, 3), env) for i in range(1000)]\n",
        "    if type(a[0]) == int and a[0] < env.action_space.n:\n",
        "        print(\"Looks like the right shape\")\n",
        "    else:\n",
        "        print(\"Incorrect return value (wrong type or higher than the number of action types)\")\n",
        "\n",
        "def test_choose_action_nondeterminacy():\n",
        "    Q = np.random.uniform(low = -1, high = 1, size = (100, 10, env.action_space.n)) #added this in myself since Q was never defined before (I think a bug?)\n",
        "    a = [choose_action(0.7, Q, (5, 3), env) for i in range(1000)]\n",
        "    if len(set(a)) > 1:\n",
        "        print(\"Looks nondeterministic\")\n",
        "    else:\n",
        "        print(\"Probably too deterministic\")\n",
        "if NOTEBOOK == 1:\n",
        "    test_choose_action_nondeterminacy()\n",
        "    test_choose_action_shape()\n"
      ]
    },
    {
      "cell_type": "code",
      "execution_count": null,
      "metadata": {
        "id": "ruZ4eTd0ZuIP"
      },
      "outputs": [],
      "source": [
        "from numpy.random.mtrand import seed\n",
        "# PennGrader Grading Cell\n",
        "if NOTEBOOK:\n",
        "    np.random.seed(42)\n",
        "    Q = np.random.uniform(low = -1, \n",
        "                        high = 1, \n",
        "                        size = (100, 10, env.action_space.n))\n",
        "    a = [choose_action(0.7, Q, (5, 3), env) for i in range(10)]\n",
        "    grader.grade(test_case_id = 'test_choose_action', answer = a)"
      ]
    },
    {
      "cell_type": "markdown",
      "metadata": {
        "id": "vxVrMtGWf3ir"
      },
      "source": [
        "### 2.3 Decay epsilon [TODO: 1pts]"
      ]
    },
    {
      "cell_type": "markdown",
      "metadata": {
        "id": "bJXKfCpCf4U7"
      },
      "source": [
        "In the Q-learning, we want the agent to explore the environment while efficiently reach the goal. \n",
        "\n",
        "Therefore, we usually set a high epsilon at the beginning of each trajectory, and decay the epsilon in the following steps. \n",
        "\n",
        "Implement the decay epsilon function for a certain step in the `update_epsilon` function."
      ]
    },
    {
      "cell_type": "code",
      "execution_count": null,
      "metadata": {
        "id": "muGcECXEf8g5"
      },
      "outputs": [],
      "source": [
        "def update_epsilon(epsilon, decay_rate):\n",
        "    \"\"\"\n",
        "    Decay epsilon by the specified rate. Note: it should be just one line of code.\n",
        "    \n",
        "    Args:\n",
        "        epsilon (float): the probability of choosing a random action\n",
        "        decay_rate (float): the decay rate (between 0 and 1) to scale epsilon by\n",
        "        \n",
        "    Returns:\n",
        "        updated epsilon\n",
        "    \"\"\"\n",
        "  \n",
        "    #### STUDENT CODE HERE ####\n",
        "    \n",
        "\n",
        "    #### STUDENT CODE ENDS HERE ####\n",
        "\n",
        "\n",
        "    return epsilon\n"
      ]
    },
    {
      "cell_type": "code",
      "execution_count": null,
      "metadata": {
        "id": "hQfFJt65f9Dz"
      },
      "outputs": [],
      "source": [
        "def testUpdateEpsilon():\n",
        "    orig_ep = 0.51\n",
        "    decay = 0.97\n",
        "    new_ep = update_epsilon(orig_ep, decay)\n",
        "    if not type(new_ep) == float:\n",
        "        print(\"Wrong type returned\")\n",
        "    elif new_ep != 0.4947:\n",
        "        print(\"Incorrect implementation\")\n",
        "    else:\n",
        "        print(\"Implementation of update_epsilon correct\")\n",
        "\n",
        "if NOTEBOOK == 1:\n",
        "    (testUpdateEpsilon())"
      ]
    },
    {
      "cell_type": "code",
      "execution_count": null,
      "metadata": {
        "id": "INOA03Ibf-gQ"
      },
      "outputs": [],
      "source": [
        "# PennGrader Grading Cell\n",
        "if NOTEBOOK:\n",
        "    grader.grade(test_case_id = 'test_update_epsilon', answer = update_epsilon)"
      ]
    },
    {
      "cell_type": "markdown",
      "metadata": {
        "id": "EPNHwEHTRT2L"
      },
      "source": [
        "### 2.4 Update Q Value [5 pts]\n"
      ]
    },
    {
      "cell_type": "markdown",
      "metadata": {
        "id": "21QtD2igRUup"
      },
      "source": [
        "Recall the incremental Q Value update function is:\n",
        "\n",
        "$$Q(s,a) = Q(s,a)+ \\alpha(R(s,a,s')+\\gamma\\max_{a'}Q(s',a')-Q(s,a) )$$\n",
        "\n",
        "Where $s$ is current state, $s'$ is next state, $a$ is current action, $a'$ is next possible action, $\\alpha$ is learning rate, $\\gamma$ is discount rate, $s'$ is next state. $Q(s,a)$ is Q value for a certain state and action pair, $R(s,a,s')$ is the reward of applying the state and action pair that arrive at $s'$. $Q(s',a')$ is the Q value of state action pair $(s',a')$. Implement the `update_Q` function."
      ]
    },
    {
      "cell_type": "code",
      "execution_count": null,
      "metadata": {
        "id": "9KclPSQ9RX6U"
      },
      "outputs": [],
      "source": [
        "def update_Q(Q, state_disc, next_state_disc, action, discount, learning_rate, reward, terminal):\n",
        "    \"\"\"\n",
        "    \n",
        "    Update Q values following the Q-learning update rule. \n",
        "    \n",
        "    Be sure to handle the terminal state case.\n",
        "    \n",
        "    Args:\n",
        "        Q (np.array): The Q value matrix, here it is 3D for the two observation states and action states\n",
        "        state_disc (np.array): the discretized version of the current observation state [position, velocity]\n",
        "        next_state_disc (np.array): the discretized version of the next observation state [position, velocity]\n",
        "        action (int): the chosen action\n",
        "        discount (float): the discount factor, may be referred to as gamma\n",
        "        learning_rate (float): the learning rate, may be referred to as alpha\n",
        "        reward (float): the current (immediate) reward\n",
        "        terminal (bool): flag for whether the state is terminal\n",
        "        \n",
        "    Returns:\n",
        "        Q, with the [state_disc[0], state_disc[1], action] entry updated.\n",
        "    \"\"\"    \n",
        "    #### STUDENT CODE HERE ####\n",
        "    \n",
        "\n",
        "    #### STUDENT CODE ENDS HERE ####\n",
        "    return Q\n",
        "\n",
        "\n",
        "def test_update_Q():\n",
        "    Q = np.ones((3, 3, env.action_space.n))\n",
        "    state_disc = (2, 2)\n",
        "    next_state_disc = (2,1)\n",
        "    action = 1\n",
        "    discount = 0.9\n",
        "    learning_rate = 0.01\n",
        "    reward = 10\n",
        "    terminal = False\n",
        "    Q = update_Q(Q,state_disc,next_state_disc,action,discount,learning_rate, reward, terminal) \n",
        "    if Q.tolist() != [[[1.0, 1.0, 1.0], [1.0, 1.0, 1.0], [1.0, 1.0, 1.0]], [[1.0, 1.0, 1.0], [1.0, 1.0, 1.0], [1.0, 1.0, 1.0]], [[1.0, 1.0, 1.0], [1.0, 1.0, 1.0], [1.0, 1.099, 1.0]]]:\n",
        "        print(\"Incorrect Q update\")\n",
        "    else:\n",
        "        print(\"Q update looks correct!\")\n",
        "\n",
        "if NOTEBOOK == 1:    \n",
        "    test_update_Q()"
      ]
    },
    {
      "cell_type": "code",
      "execution_count": null,
      "metadata": {
        "id": "qnWW61oYRgeh"
      },
      "outputs": [],
      "source": [
        "# PennGrader Grading Cell\n",
        "if NOTEBOOK:\n",
        "    grader.grade(test_case_id = 'test_update_Q_backend', answer = (update_Q, env.action_space.n))"
      ]
    },
    {
      "cell_type": "markdown",
      "metadata": {
        "id": "5upsphRjXZnu"
      },
      "source": [
        "###2.5 Main Q-learning Loop"
      ]
    },
    {
      "cell_type": "code",
      "execution_count": null,
      "metadata": {
        "id": "6NQ4KG3NYjHl"
      },
      "outputs": [],
      "source": [
        "class ResizeObservation(gym.Wrapper):\n",
        "    def __init__(self, env, shape):\n",
        "        super(ResizeObservation, self).__init__(env)\n",
        "        if isinstance(shape, int):\n",
        "            shape = (shape, shape)\n",
        "        assert all(x > 0 for x in shape), shape\n",
        "        self.env = env\n",
        "        self.shape = tuple(shape)\n",
        "\n",
        "    def render(self):\n",
        "\n",
        "        from PIL import Image\n",
        "        obs = self.env.render(mode = 'rgb_array')\n",
        "        im = Image.fromarray(np.uint8(obs))\n",
        "        im = im.resize(self.shape)\n",
        "        return np.asarray(im)"
      ]
    },
    {
      "cell_type": "markdown",
      "metadata": {
        "id": "acmiigM1XagE"
      },
      "source": [
        "You have implemented all the untility functions for Q-learning. We've provided you the code for the main Q-learning loop, please carefully go through the next cell."
      ]
    },
    {
      "cell_type": "code",
      "execution_count": null,
      "metadata": {
        "id": "O6BxOuusXcAT"
      },
      "outputs": [],
      "source": [
        "def Qlearning(Q, discretization, env, learning_rate, discount, epsilon, decay_rate, max_episodes=5000):\n",
        "    \"\"\"\n",
        "    \n",
        "    The main Q-learning function, utilizing the functions implemented above.\n",
        "          \n",
        "    \"\"\"\n",
        "    reward_list = []\n",
        "    position_list = []\n",
        "    success_list = []\n",
        "    success = 0 # count of number of successes reached \n",
        "    frames = []\n",
        "  \n",
        "    for i in range(max_episodes):\n",
        "        # Initialize parameters\n",
        "        done = False # indicates whether the episode is done\n",
        "        terminal = False # indicates whether the episode is done AND the car has reached the flag (>=0.5 position)\n",
        "        tot_reward = 0 # sum of total reward over a single\n",
        "        state = env.reset() # initial environment state\n",
        "        state_disc = discretize(state,discretization,env)\n",
        "\n",
        "        while done != True:             \n",
        "            # Determine next action \n",
        "            action = choose_action(epsilon, Q, state_disc, env)                                      \n",
        "            # Get next_state, reward, and done using env.step(), see http://gym.openai.com/docs/#environments for reference\n",
        "            if i==1 or i==(max_episodes-1):\n",
        "               frames.append(env.render())\n",
        "            next_state, reward, done, _ = env.step(action) \n",
        "            # Discretize next state \n",
        "            next_state_disc = discretize(next_state,discretization,env)\n",
        "            # Update terminal\n",
        "            terminal = done and next_state[0]>=0.5\n",
        "            # Update Q\n",
        "            Q = update_Q(Q,state_disc,next_state_disc,action,discount,learning_rate, reward, terminal)  \n",
        "            # Update tot_reward, state_disc, and success (if applicable)\n",
        "            tot_reward += reward\n",
        "            state_disc = next_state_disc\n",
        "\n",
        "            if terminal: success +=1 \n",
        "            \n",
        "        epsilon = update_epsilon(epsilon, decay_rate) #Update level of epsilon using update_epsilon()\n",
        "\n",
        "        # Track rewards\n",
        "        reward_list.append(tot_reward)\n",
        "        position_list.append(next_state[0])\n",
        "        success_list.append(success/(i+1))\n",
        "\n",
        "        if (i+1) % 100 == 0:\n",
        "            print('Episode: ', i+1, 'Average Reward over 100 Episodes: ',np.mean(reward_list))\n",
        "            reward_list = []\n",
        "                \n",
        "    env.close()\n",
        "    \n",
        "    return Q, position_list, success_list, frames"
      ]
    },
    {
      "cell_type": "markdown",
      "metadata": {
        "id": "ImCUNOzKXh6s"
      },
      "source": [
        "### 2.6 Define Params and Launch Q-learning [5 pts]"
      ]
    },
    {
      "cell_type": "markdown",
      "metadata": {
        "id": "Pf1d3MeCXijE"
      },
      "source": [
        "This is the main function for launching the Q-learning. You can run this cell to train the Q-learning without modifying anything and results would be saved to `./expert_Q.npy`. \n",
        "\n",
        "\n"
      ]
    },
    {
      "cell_type": "code",
      "execution_count": null,
      "metadata": {
        "id": "aCUKXBQxXrgx"
      },
      "outputs": [],
      "source": [
        "# Initialize Mountain Car Environment\n",
        "env = gym.make('MountainCar-v0')\n",
        "\n",
        "env = ResizeObservation(env,100) #Resize observations\n",
        "\n",
        "env.seed(42)\n",
        "np.random.seed(42)\n",
        "env.reset()\n",
        "\n",
        "#### STUDENT CODE HERE ####\n",
        "# Parameters    \n",
        "learning_rate = 0\n",
        "discount = 0\n",
        "epsilon = 0\n",
        "decay_rate = 0\n",
        "max_episodes = 1\n",
        "discretization = np.array([10,100])\n",
        "\n",
        "#### STUDENT CODE ENDS HERE ####\n",
        "\n",
        "\n",
        "#InitQ\n",
        "num_states = (env.observation_space.high - env.observation_space.low)*discretization\n",
        "#Size of discretized state space \n",
        "num_states = np.round(num_states, 0).astype(int) + 1\n",
        "# Initialize Q table\n",
        "Q = np.random.uniform(low = -1, \n",
        "                      high = 1, \n",
        "                      size = (num_states[0], num_states[1], env.action_space.n))\n",
        "\n",
        "\n",
        "def test_Q_learning(successes):\n",
        "    # Run Q Learning by calling your Qlearning() function\n",
        "    if np.mean(successes[-1]) < 0.7:\n",
        "        print(\"Your Q-learning algorithm isn't producing good enough results!\")\n",
        "    else:\n",
        "        print(\"Looks like you're learning nicely!\")\n",
        "\n",
        "if NOTEBOOK == 1:\n",
        "    Q, position, successes, frames = Qlearning(Q, discretization, env, learning_rate, discount, epsilon, decay_rate, max_episodes)\n",
        "    np.save('./expert_Q.npy',Q) #Save the expert\n",
        "    test_Q_learning(successes)"
      ]
    },
    {
      "cell_type": "code",
      "execution_count": null,
      "metadata": {
        "id": "LrHvrN6eYPAn"
      },
      "outputs": [],
      "source": [
        "# PennGrader Grading Cell\n",
        "if NOTEBOOK:\n",
        "    grader.grade(test_case_id = 'test_successes', answer = successes)"
      ]
    },
    {
      "cell_type": "markdown",
      "metadata": {
        "id": "HWwTx91qXtkW"
      },
      "source": [
        "### 2.7 Visualization Results\n"
      ]
    },
    {
      "cell_type": "code",
      "execution_count": null,
      "metadata": {
        "id": "IJNh1NcDXzIP"
      },
      "outputs": [],
      "source": [
        "import pandas as pd\n",
        "from PIL import Image \n",
        "\n",
        "if NOTEBOOK == 1:\n",
        "    plt.plot(successes)\n",
        "    plt.xlabel('Episode')\n",
        "    plt.ylabel('% of Episodes with Success')\n",
        "    plt.title('% Successes')\n",
        "    plt.show()\n",
        "    plt.close()\n",
        "\n",
        "    p = pd.Series(position)\n",
        "    ma = p.rolling(3).mean()\n",
        "    plt.plot(p, alpha=0.8)\n",
        "    plt.plot(ma)\n",
        "    plt.xlabel('Episode')\n",
        "    plt.ylabel('Position')\n",
        "    plt.title('Car Final Position')\n",
        "    plt.show()"
      ]
    },
    {
      "cell_type": "code",
      "execution_count": null,
      "metadata": {
        "id": "Lgf0_JQFXzxI"
      },
      "outputs": [],
      "source": [
        "#### Video plotting code #####################\n",
        "if NOTEBOOK == 1:\n",
        "  deep_frames = []\n",
        "  for obs in frames:\n",
        "    im = Image.fromarray(np.uint8(obs))\n",
        "    im = im.resize((600,400))\n",
        "    deep_frames.append(np.asarray(im))\n",
        "\n",
        "  plt.figure(figsize=(deep_frames[0].shape[1] / 72.0, deep_frames[0].shape[0] / 72.0), dpi = 72)\n",
        "  patch = plt.imshow(deep_frames[0])\n",
        "  plt.axis('off')\n",
        "  animate = lambda i: patch.set_data(deep_frames[i])\n",
        "  ani = matplotlib.animation.FuncAnimation(plt.gcf(), animate, frames=len(deep_frames), interval = 50)\n",
        "  HTML(ani.to_jshtml())\n"
      ]
    },
    {
      "cell_type": "markdown",
      "source": [
        "### 2.8 Behavioral Cloning: Collect data using Q value table as an expert [TODO: 2pts]\n",
        "\n",
        "Behavioral Cloning is an algorithm that uses state-action pairs of an expert to learn a policy. Based on an expert agent, we\n",
        "1. Collect data\n",
        "2. Use supervised learning to learn a policy using data from 1.\n",
        "\n",
        "\n",
        "\n",
        "\n",
        "In this section, we will use the Q-learning agent learned previously as our expert to collect \"expert data\" and train a decision tree classifier based on the data. "
      ],
      "metadata": {
        "id": "VwOl9vIXhn9Q"
      }
    },
    {
      "cell_type": "code",
      "source": [
        "import sklearn.tree as tree \n",
        "from sklearn.tree import DecisionTreeClassifier"
      ],
      "metadata": {
        "id": "6nDLiGkNhnKp"
      },
      "execution_count": null,
      "outputs": []
    },
    {
      "cell_type": "code",
      "source": [
        "# Student TODO\n",
        "# load the Q value table that was saved from 2.7\n",
        "Q = np.load('./expert_Q.npy')"
      ],
      "metadata": {
        "id": "amZFmRZphq0W"
      },
      "execution_count": null,
      "outputs": []
    },
    {
      "cell_type": "code",
      "source": [
        "def collect_expert_data(Q, discretization, env, max_episodes=100):\n",
        "    \"\"\"\n",
        "    \n",
        "    Collect Expert Data using the Q value Table\n",
        "          \n",
        "    \"\"\"\n",
        "    success = 0 # count of number of successes reached \n",
        "    frames = []\n",
        "    states = []\n",
        "    actions = []\n",
        "  \n",
        "    for i in range(max_episodes):\n",
        "      \n",
        "        # Initialize parameters\n",
        "        done = False # indicates whether the episode is done\n",
        "        terminal = False # indicates whether the episode is done AND the car has reached the flag (>=0.5 position)\n",
        "        tot_reward = 0 # sum of total reward over a single\n",
        "        state = env.reset() # initial environment state\n",
        "        state_disc = discretize(state,discretization,env)\n",
        "\n",
        "        while done != True:            \n",
        "            #### STUDENT CODE HERE ####\n",
        "            # Determine next action \n",
        "                                                 \n",
        "            # Get next_state, reward, and done using env.step(), see http://gym.openai.com/docs/#environments for reference\n",
        "            \n",
        "            # Discretize next state \n",
        "            \n",
        "            # Update terminal\n",
        "            \n",
        "            \n",
        "            # Update tot_reward, state_disc, and success (if applicable)\n",
        "            \n",
        "\n",
        "            # append state and action\n",
        "            \n",
        "\n",
        "            # update state\n",
        "            \n",
        "\n",
        "            #### STUDENT CODE ENDS HERE ####\n",
        "            if terminal: success +=1 \n",
        "\n",
        "    env.close()\n",
        "    \n",
        "    return states, actions\n",
        "if NOTEBOOK:\n",
        "  states, actions = collect_expert_data(Q, discretization, env, 100)"
      ],
      "metadata": {
        "id": "m4QLQi0Khqxt"
      },
      "execution_count": null,
      "outputs": []
    },
    {
      "cell_type": "code",
      "source": [
        "# PennGrader Grading Cell\n",
        "Q_test = np.ones((100, 10, 3))\n",
        "test_discretization = np.array([100, 10])\n",
        "test_state, test_actions = collect_expert_data(Q_test, test_discretization, env, 100)\n",
        "\n",
        "if NOTEBOOK:\n",
        "    grader.grade(test_case_id = 'test_expert_data', answer = (test_state, test_actions))"
      ],
      "metadata": {
        "id": "N8OVTvWtMMV9"
      },
      "execution_count": null,
      "outputs": []
    },
    {
      "cell_type": "markdown",
      "source": [
        "### 2.9 Train a Decision Tree Classifier using the collected data [Plot: 2pts]\n",
        "\n",
        "**Add this plot to the written homework**\n"
      ],
      "metadata": {
        "id": "diz2HVdSjj2-"
      }
    },
    {
      "cell_type": "code",
      "source": [
        "#### STUDENT CODE HERE ####\n",
        "# Train scikit-learn decision tree classifier using the fit function using the collected data\n",
        "\n",
        "\n",
        "# plot the resulting decision tree. You can use the plot_tree function\n",
        "\n",
        "\n",
        "#### STUDENT CODE ENDS HERE ####"
      ],
      "metadata": {
        "id": "GJBgAJJwhqu2"
      },
      "execution_count": null,
      "outputs": []
    },
    {
      "cell_type": "markdown",
      "source": [
        "### 2.10 Test the performance of the trained decision tree and compare results with 2.7 [Plot and answer 2.0 pt]\n",
        "\n",
        "**In the written homework, add the plots from 2.7 and 2.11 and compart the results. Briefly explain why we see such difference in the plots.**"
      ],
      "metadata": {
        "id": "H5qwygcIk3P9"
      }
    },
    {
      "cell_type": "code",
      "source": [
        "def test_agent(clf, discretization, env, max_episodes=5000):\n",
        "    \"\"\"\n",
        "    \n",
        "    The main Q-learning function, utilizing the functions implemented above.\n",
        "          \n",
        "    \"\"\"\n",
        "    reward_list = []\n",
        "    position_list = []\n",
        "    success_list = []\n",
        "    success = 0 # count of number of successes reached \n",
        "    frames = []\n",
        "    states, actions = [], []\n",
        "    \n",
        "    for i in range(max_episodes):\n",
        "        #### STUDENT CODE HERE ####\n",
        "\n",
        "        # Initialize parameters\n",
        "        done =  # indicates whether the episode is done\n",
        "        terminal =  # indicates whether the episode is done AND the car has reached the flag (>=0.5 position)\n",
        "        tot_reward =  # sum of total reward over a single\n",
        "\n",
        "        state =  # some variance to the initial environment state\n",
        "        \n",
        "        # Deiscretize the state\n",
        "        \n",
        "\n",
        "        while done != True:             \n",
        "            # Determine next action \n",
        "            \n",
        "            # Get next_state, reward, and done using env.step(), see http://gym.openai.com/docs/#environments for reference\n",
        "             \n",
        "            # Discretize next state \n",
        "            \n",
        "            # Update terminal\n",
        "            \n",
        "            # Increase success when the car has reached the flag\n",
        "            \n",
        "\n",
        "\n",
        "        #### STUDENT CODE ENDS HERE ####\n",
        "\n",
        "        # Track rewards\n",
        "        reward_list.append(tot_reward)\n",
        "        position_list.append(next_state[0])\n",
        "        success_list.append(success/(i+1))\n",
        "        \n",
        "\n",
        "        if (i+1) % 100 == 0:\n",
        "            print('Episode: ', i+1, 'Average Reward over 100 Episodes: ',np.mean(reward_list))\n",
        "            reward_list = []\n",
        "                \n",
        "    env.close()\n",
        "    \n",
        "    return position_list, success_list, frames\n",
        "\n",
        "if NOTEBOOK:\n",
        "  position, successes, frames = agent_test(bc_clf, discretization, env, 100)"
      ],
      "metadata": {
        "id": "k0CfEBFuhqkR"
      },
      "execution_count": null,
      "outputs": []
    },
    {
      "cell_type": "code",
      "source": [
        "if NOTEBOOK == 1:\n",
        "    plt.plot(successes)\n",
        "    plt.xlabel('Episode')\n",
        "    plt.ylabel('% of Episodes with Success')\n",
        "    plt.title('% Successes')\n",
        "    plt.show()\n",
        "    plt.close()\n",
        "\n",
        "    p = pd.Series(position)\n",
        "    ma = p.rolling(3).mean()\n",
        "    plt.plot(p, alpha=0.8)\n",
        "    plt.plot(ma)\n",
        "    plt.xlabel('Episode')\n",
        "    plt.ylabel('Position')\n",
        "    plt.title('Car Final Position')\n",
        "    plt.show()"
      ],
      "metadata": {
        "id": "V7bw_boZoCzY"
      },
      "execution_count": null,
      "outputs": []
    },
    {
      "cell_type": "code",
      "source": [],
      "metadata": {
        "id": "MZNKfzAGCSOA"
      },
      "execution_count": null,
      "outputs": []
    }
  ],
  "metadata": {
    "accelerator": "GPU",
    "colab": {
      "provenance": [],
      "collapsed_sections": [
        "oQCyLhELJ7LX",
        "K2EMoXKcUQ1G",
        "Q5ulmPzRwr3T",
        "JFe9SkOcYugK",
        "HoZuTVB9mcZb",
        "ct2rwpFxlytq",
        "Z6rGLI6jm-0g",
        "FI5HX8dGNQyR",
        "uKlnbGShNCDV",
        "QnSMLJcrsYC0",
        "M0aq_l_f4xiv",
        "JmdzEvd2Nc2M",
        "bP0L25asIZvl"
      ],
      "toc_visible": true
    },
    "kernelspec": {
      "display_name": "Python 3",
      "name": "python3"
    },
    "language_info": {
      "name": "python"
    }
  },
  "nbformat": 4,
  "nbformat_minor": 0
}